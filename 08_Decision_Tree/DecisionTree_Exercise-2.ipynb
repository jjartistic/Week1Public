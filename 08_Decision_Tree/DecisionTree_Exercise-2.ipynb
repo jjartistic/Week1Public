{
 "cells": [
  {
   "cell_type": "markdown",
   "source": "# Decision Tree Worksheet",
   "metadata": {
    "colab_type": "text",
    "id": "-UimMCmGe19F",
    "cell_id": "00000-1bf670d2-410a-41b8-b3ca-03258285de1b",
    "deepnote_cell_type": "markdown"
   }
  },
  {
   "cell_type": "code",
   "metadata": {
    "tags": [],
    "deepnote_to_be_reexecuted": false,
    "source_hash": "ca10e547",
    "execution_start": 1625687246613,
    "execution_millis": 4919,
    "cell_id": "00001-8c96ff9d-87bc-4207-bec6-c2df5a9660c8",
    "deepnote_cell_type": "code"
   },
   "source": "!pip install graphviz",
   "execution_count": null,
   "outputs": [
    {
     "name": "stdout",
     "text": "Collecting graphviz\n  Downloading graphviz-0.16-py2.py3-none-any.whl (19 kB)\nInstalling collected packages: graphviz\nSuccessfully installed graphviz-0.16\n\u001b[33mWARNING: You are using pip version 21.1.2; however, version 21.1.3 is available.\nYou should consider upgrading via the '/root/venv/bin/python -m pip install --upgrade pip' command.\u001b[0m\n",
     "output_type": "stream"
    }
   ]
  },
  {
   "cell_type": "code",
   "metadata": {
    "colab": {
     "autoexec": {
      "startup": false,
      "wait_interval": 0
     }
    },
    "colab_type": "code",
    "id": "kedW02LgKjVL",
    "deepnote_to_be_reexecuted": false,
    "source_hash": "eb9a879d",
    "execution_start": 1625688104873,
    "execution_millis": 1,
    "cell_id": "00002-0460fb0f-85f0-4b0d-88e9-710af5494e6d",
    "deepnote_cell_type": "code"
   },
   "source": "import numpy as np\nimport pandas as pd\nfrom sklearn.model_selection import train_test_split\nfrom sklearn.tree import DecisionTreeClassifier\nfrom sklearn.metrics import accuracy_score\nfrom sklearn import tree\nfrom sklearn.ensemble import RandomForestClassifier\nfrom sklearn import metrics\nimport graphviz\nimport matplotlib.pyplot as plt",
   "execution_count": null,
   "outputs": []
  },
  {
   "cell_type": "markdown",
   "source": "## Loading data\n\nLoad Pima diabetes dataset and split data, with test size 20% and validaton 20%.",
   "metadata": {
    "colab_type": "text",
    "id": "rz35eT5-SMht",
    "cell_id": "00003-d5cb1c13-e0b3-4ee7-ba50-7805bc6b5646",
    "deepnote_cell_type": "markdown"
   }
  },
  {
   "cell_type": "code",
   "metadata": {
    "colab": {
     "autoexec": {
      "startup": false,
      "wait_interval": 0
     }
    },
    "colab_type": "code",
    "id": "Ydh9gmDkMGmu",
    "deepnote_to_be_reexecuted": false,
    "source_hash": "95d3a2b6",
    "execution_start": 1625687257333,
    "execution_millis": 47,
    "cell_id": "00004-d65d235f-d7a6-4f99-826c-5d3c19e15728",
    "deepnote_cell_type": "code"
   },
   "source": "url = \"https://raw.githubusercontent.com/jbrownlee/Datasets/master/pima-indians-diabetes.data.csv\"\nnames = ['preg', 'plas', 'pres', 'skin', 'test', 'mass', 'pedi', 'age', 'class']\n\n## YOUR CODE HERE\ndata = pd.read_csv(url, names=names)\ndata.head() \n\n# Splitting data\nX_cols = ['preg', 'plas', 'pres', 'skin', 'test', 'mass', 'pedi', 'age']\ny_col = 'class'\n\ntest_size = 0.2\nX_train, X_test, y_train, y_test = train_test_split(data[X_cols], data[y_col], test_size=test_size, random_state=0)\nX_train, X_val, y_train, y_val = train_test_split(X_train, y_train, test_size=test_size, random_state=0)\n",
   "execution_count": null,
   "outputs": []
  },
  {
   "cell_type": "markdown",
   "source": "## Creating Model\n\nMake a model using sklearn's DecisionTreeClassifier, with a high max-depth and low minimum sample leafs.",
   "metadata": {
    "colab_type": "text",
    "id": "KAFhsJIsSpMR",
    "cell_id": "00005-b3f3aa9b-a07b-4ff8-b919-607950190490",
    "deepnote_cell_type": "markdown"
   }
  },
  {
   "cell_type": "code",
   "metadata": {
    "colab": {
     "autoexec": {
      "startup": false,
      "wait_interval": 0
     }
    },
    "colab_type": "code",
    "id": "fHbA28aFS2DM",
    "deepnote_to_be_reexecuted": false,
    "source_hash": "4f49dec6",
    "execution_start": 1625687266289,
    "execution_millis": 24,
    "cell_id": "00006-ec575681-604f-4c59-b267-06dd7074836e",
    "deepnote_cell_type": "code"
   },
   "source": "## YOUR CODE HERE\ndecision_tree = DecisionTreeClassifier(criterion = \"entropy\", random_state = None,\n                              max_depth=10, min_samples_leaf=2)  # minimum sample leafs is the minimum sample \n                                                                # amount the leaf can have\n\n# Training/fitting the model with training data\ndecision_tree.fit(X_train, y_train)",
   "execution_count": null,
   "outputs": [
    {
     "output_type": "execute_result",
     "execution_count": 6,
     "data": {
      "text/plain": "DecisionTreeClassifier(criterion='entropy', max_depth=10, min_samples_leaf=2)"
     },
     "metadata": {}
    }
   ]
  },
  {
   "cell_type": "markdown",
   "source": "Print accuracy of training and validation data.",
   "metadata": {
    "colab_type": "text",
    "id": "4_8DZinWTJRa",
    "cell_id": "00007-21294a26-5809-4a83-a4b2-a07cd68313b2",
    "deepnote_cell_type": "markdown"
   }
  },
  {
   "cell_type": "code",
   "metadata": {
    "colab": {
     "autoexec": {
      "startup": false,
      "wait_interval": 0
     }
    },
    "colab_type": "code",
    "id": "EgByCP_EhyB2",
    "deepnote_to_be_reexecuted": false,
    "source_hash": "9826c712",
    "execution_start": 1625687883779,
    "execution_millis": 14,
    "cell_id": "00008-306eec01-727c-4688-afef-0bab225de355",
    "deepnote_cell_type": "code"
   },
   "source": "## YOUR CODE HERE\n# Printing accuracy of testing & training data\ny_train_pred=decision_tree.predict(X_train)\nprint(\"Training Accuracy:\", accuracy_score(y_train, y_train_pred)*100, end = '%')\ny_val_pred=decision_tree.predict(X_val)\nprint(\"\\nValidation Accuracy:\", accuracy_score(y_val,y_val_pred)*100, end = '%')",
   "execution_count": null,
   "outputs": [
    {
     "name": "stdout",
     "text": "Training Accuracy: 83.09572301425662%\nValidation Accuracy: 70.73170731707317%",
     "output_type": "stream"
    }
   ]
  },
  {
   "cell_type": "markdown",
   "source": "Make a model with a low max-depth and higher minimum sample leafs.",
   "metadata": {
    "colab_type": "text",
    "id": "6HNa6fxbT6ak",
    "cell_id": "00009-74cecf9e-4a65-4c55-9692-6ebd930d9855",
    "deepnote_cell_type": "markdown"
   }
  },
  {
   "cell_type": "code",
   "metadata": {
    "colab": {
     "autoexec": {
      "startup": false,
      "wait_interval": 0
     },
     "base_uri": "https://localhost:8080/",
     "height": 17
    },
    "colab_type": "code",
    "executionInfo": {
     "elapsed": 287,
     "status": "ok",
     "timestamp": 1530627778885,
     "user": {
      "displayName": "john passarelli",
      "photoUrl": "https://lh3.googleusercontent.com/a/default-user=s128",
      "userId": "102241934905781120798"
     },
     "user_tz": 240
    },
    "id": "6Pbu-t_tiqnB",
    "outputId": "ef95b427-e6b4-41a7-f992-9826342b662c",
    "deepnote_to_be_reexecuted": false,
    "source_hash": "5b6e4129",
    "execution_start": 1625687283392,
    "execution_millis": 12,
    "cell_id": "00010-1b727432-8e2a-40db-be03-fff6bd25ed6d",
    "deepnote_cell_type": "code"
   },
   "source": "## YOUR CODE HERE\ndecision_tree = DecisionTreeClassifier(criterion = \"entropy\", random_state = None,\n                              max_depth=5, min_samples_leaf=3)  # minimum sample leafs is the minimum sample \n                                                                # amount the leaf can have\n\n# Training/fitting the model with training data\ndecision_tree.fit(X_train, y_train)",
   "execution_count": null,
   "outputs": [
    {
     "output_type": "execute_result",
     "execution_count": 8,
     "data": {
      "text/plain": "DecisionTreeClassifier(criterion='entropy', max_depth=5, min_samples_leaf=3)"
     },
     "metadata": {}
    }
   ]
  },
  {
   "cell_type": "markdown",
   "source": "Print accuracy of training and validation data.",
   "metadata": {
    "cell_id": "00011-2d17f01e-f49f-4d9a-8486-64769a7c7ef2",
    "deepnote_cell_type": "markdown"
   }
  },
  {
   "cell_type": "code",
   "metadata": {
    "deepnote_to_be_reexecuted": false,
    "source_hash": "fd9f9257",
    "execution_start": 1625687292610,
    "execution_millis": 9,
    "cell_id": "00012-0dcd0a96-d3e9-4e3d-97e9-37b9692985bd",
    "deepnote_cell_type": "code"
   },
   "source": "## YOUR CODE HERE\n# Printing accuracy of testing & training data\ny_train_pred=decision_tree.predict(X_train)\nprint(\"Training Accuracy :\", accuracy_score(y_train, y_train_pred)*100, end = '%')\ny_val_pred=decision_tree.predict(X_val)\nprint(\"\\nValidation Accuracy :\", accuracy_score(y_val,y_val_pred)*100, end = '%')",
   "execution_count": null,
   "outputs": [
    {
     "name": "stdout",
     "text": "Training Accuracy is  83.09572301425662\nValidation Accuracy is  70.73170731707317\n",
     "output_type": "stream"
    }
   ]
  },
  {
   "cell_type": "markdown",
   "source": "Explain the accuracy results below. \n\nHaving a higher max-depth and lower minimum sample leafs in the decision tree algorithm caused overfitting. ",
   "metadata": {
    "cell_id": "00013-03e7578e-979c-4cd5-9cc4-6bdeccf90793",
    "deepnote_cell_type": "markdown"
   }
  },
  {
   "cell_type": "code",
   "metadata": {
    "tags": [],
    "cell_id": "00014-e670ae04-22c5-4b91-a6b2-95d2f2ade6f0",
    "deepnote_cell_type": "code"
   },
   "source": "",
   "execution_count": null,
   "outputs": []
  },
  {
   "cell_type": "markdown",
   "source": "## Metrics",
   "metadata": {
    "cell_id": "00015-b7066786-aeb9-4ffa-af69-f13062631544",
    "deepnote_cell_type": "markdown"
   }
  },
  {
   "cell_type": "markdown",
   "source": "Plot the ROC curve and print the AUC of the second model.",
   "metadata": {
    "cell_id": "00016-f6b4240d-b900-4b57-be7f-71dccc876b43",
    "deepnote_cell_type": "markdown"
   }
  },
  {
   "cell_type": "code",
   "metadata": {
    "deepnote_to_be_reexecuted": false,
    "source_hash": "d3241bc3",
    "execution_start": 1625689490167,
    "execution_millis": 234,
    "cell_id": "00017-7dc11d83-3e37-469b-9f2c-60d240cf1d66",
    "deepnote_cell_type": "code"
   },
   "source": "## YOUR CODE HERE\nlabels = [0,1]\ny_val_prob = decision_tree.predict_proba(X_val,labels)\nfpr, tpr, thresholds = metrics.roc_curve(y_val, y_val_prob[:,1])\nroc_auc = metrics.auc(fpr, tpr)\nplt.figure(figsize=(6,6))\nlw = 2\nplt.plot(fpr, tpr, color='darkorange',\n         lw=lw, label='ROC curve (area = %0.2f)' % roc_auc)\nplt.plot([0, 1], [0, 1], color='navy', lw=lw, linestyle='--')\nplt.xlim([0.0, 1.0])\nplt.ylim([0.0, 1.0])\nplt.xlabel('False Positive Rate')\nplt.ylabel('True Positive Rate')\nplt.title('Receiver operating characteristic')\nplt.legend(loc=\"lower right\")\nplt.show()",
   "execution_count": null,
   "outputs": [
    {
     "data": {
      "text/plain": "<Figure size 432x432 with 1 Axes>",
      "image/png": "[encoded data removed]"
     },
     "metadata": {
      "needs_background": "light",
      "image/png": {
       "width": 394,
       "height": 387
      }
     },
     "output_type": "display_data"
    }
   ]
  },
  {
   "cell_type": "markdown",
   "source": "Use graphviz to visualize your 2nd tree.",
   "metadata": {
    "colab_type": "text",
    "id": "tKdqOMBKUvGZ",
    "cell_id": "00018-a1c6a1b0-a23f-47fe-b3e0-e083f596cb1a",
    "deepnote_cell_type": "markdown"
   }
  },
  {
   "cell_type": "code",
   "metadata": {
    "colab": {
     "autoexec": {
      "startup": false,
      "wait_interval": 0
     }
    },
    "colab_type": "code",
    "id": "8o55bY_jl8gj",
    "deepnote_to_be_reexecuted": false,
    "source_hash": "d5e199c4",
    "execution_start": 1625687534859,
    "execution_millis": 170,
    "cell_id": "00019-dc3bb776-f2dc-4ebd-aeeb-a182a8ae8d1b",
    "deepnote_cell_type": "code"
   },
   "source": "## YOUR CODE HERE\ndot_data = tree.export_graphviz(decision_tree, out_file=None, filled=True)\n\ngraph = graphviz.Source(dot_data)\ngraph",
   "execution_count": null,
   "outputs": [
    {
     "output_type": "execute_result",
     "execution_count": 17,
     "data": {
      "text/plain": "<graphviz.files.Source at 0x7f2a9f139d50>",
      "image/svg+xml": "<?xml version=\"1.0\" encoding=\"UTF-8\" standalone=\"no\"?>\n<!DOCTYPE svg PUBLIC \"-//W3C//DTD SVG 1.1//EN\"\n \"http://www.w3.org/Graphics/SVG/1.1/DTD/svg11.dtd\">\n<!-- Generated by graphviz version 2.40.1 (20161225.0304)\n -->\n<!-- Title: Tree Pages: 1 -->\n<svg width=\"2516pt\" height=\"581pt\"\n viewBox=\"0.00 0.00 2516.00 581.00\" xmlns=\"http://www.w3.org/2000/svg\" xmlns:xlink=\"http://www.w3.org/1999/xlink\">\n<g id=\"graph0\" class=\"graph\" transform=\"scale(1 1) rotate(0) translate(4 577)\">\n<title>Tree</title>\n<polygon fill=\"#ffffff\" stroke=\"transparent\" points=\"-4,4 -4,-577 2512,-577 2512,4 -4,4\"/>\n<!-- 0 -->\n<g id=\"node1\" class=\"node\">\n<title>0</title>\n<polygon fill=\"#f3c7a7\" stroke=\"#000000\" points=\"1314.5,-573 1165.5,-573 1165.5,-505 1314.5,-505 1314.5,-573\"/>\n<text text-anchor=\"middle\" x=\"1240\" y=\"-557.8\" font-family=\"Times,serif\" font-size=\"14.00\" fill=\"#000000\">X[1] &lt;= 127.5</text>\n<text text-anchor=\"middle\" x=\"1240\" y=\"-542.8\" font-family=\"Times,serif\" font-size=\"14.00\" fill=\"#000000\">entropy = 0.94</text>\n<text text-anchor=\"middle\" x=\"1240\" y=\"-527.8\" font-family=\"Times,serif\" font-size=\"14.00\" fill=\"#000000\">samples = 491</text>\n<text text-anchor=\"middle\" x=\"1240\" y=\"-512.8\" font-family=\"Times,serif\" font-size=\"14.00\" fill=\"#000000\">value = [316, 175]</text>\n</g>\n<!-- 1 -->\n<g id=\"node2\" class=\"node\">\n<title>1</title>\n<polygon fill=\"#eba06a\" stroke=\"#000000\" points=\"941,-469 801,-469 801,-401 941,-401 941,-469\"/>\n<text text-anchor=\"middle\" x=\"871\" y=\"-453.8\" font-family=\"Times,serif\" font-size=\"14.00\" fill=\"#000000\">X[7] &lt;= 28.5</text>\n<text text-anchor=\"middle\" x=\"871\" y=\"-438.8\" font-family=\"Times,serif\" font-size=\"14.00\" fill=\"#000000\">entropy = 0.719</text>\n<text text-anchor=\"middle\" x=\"871\" y=\"-423.8\" font-family=\"Times,serif\" font-size=\"14.00\" fill=\"#000000\">samples = 307</text>\n<text text-anchor=\"middle\" x=\"871\" y=\"-408.8\" font-family=\"Times,serif\" font-size=\"14.00\" fill=\"#000000\">value = [246, 61]</text>\n</g>\n<!-- 0&#45;&gt;1 -->\n<g id=\"edge1\" class=\"edge\">\n<title>0&#45;&gt;1</title>\n<path fill=\"none\" stroke=\"#000000\" d=\"M1165.3273,-517.954C1103.1592,-500.4324 1014.8342,-475.5386 951.1823,-457.5988\"/>\n<polygon fill=\"#000000\" stroke=\"#000000\" points=\"951.7608,-454.1255 941.1862,-454.7815 949.8618,-460.8631 951.7608,-454.1255\"/>\n<text text-anchor=\"middle\" x=\"953.4055\" y=\"-472.8918\" font-family=\"Times,serif\" font-size=\"14.00\" fill=\"#000000\">True</text>\n</g>\n<!-- 24 -->\n<g id=\"node25\" class=\"node\">\n<title>24</title>\n<polygon fill=\"#b3d9f5\" stroke=\"#000000\" points=\"1682,-469 1542,-469 1542,-401 1682,-401 1682,-469\"/>\n<text text-anchor=\"middle\" x=\"1612\" y=\"-453.8\" font-family=\"Times,serif\" font-size=\"14.00\" fill=\"#000000\">X[5] &lt;= 29.95</text>\n<text text-anchor=\"middle\" x=\"1612\" y=\"-438.8\" font-family=\"Times,serif\" font-size=\"14.00\" fill=\"#000000\">entropy = 0.958</text>\n<text text-anchor=\"middle\" x=\"1612\" y=\"-423.8\" font-family=\"Times,serif\" font-size=\"14.00\" fill=\"#000000\">samples = 184</text>\n<text text-anchor=\"middle\" x=\"1612\" y=\"-408.8\" font-family=\"Times,serif\" font-size=\"14.00\" fill=\"#000000\">value = [70, 114]</text>\n</g>\n<!-- 0&#45;&gt;24 -->\n<g id=\"edge24\" class=\"edge\">\n<title>0&#45;&gt;24</title>\n<path fill=\"none\" stroke=\"#000000\" d=\"M1314.8323,-518.0792C1377.7965,-500.4763 1467.6064,-475.3681 1531.988,-457.369\"/>\n<polygon fill=\"#000000\" stroke=\"#000000\" points=\"1533.0066,-460.7185 1541.6949,-454.6552 1531.1218,-453.977 1533.0066,-460.7185\"/>\n<text text-anchor=\"middle\" x=\"1529.4297\" y=\"-472.7397\" font-family=\"Times,serif\" font-size=\"14.00\" fill=\"#000000\">False</text>\n</g>\n<!-- 2 -->\n<g id=\"node3\" class=\"node\">\n<title>2</title>\n<polygon fill=\"#e78c4a\" stroke=\"#000000\" points=\"503,-365 363,-365 363,-297 503,-297 503,-365\"/>\n<text text-anchor=\"middle\" x=\"433\" y=\"-349.8\" font-family=\"Times,serif\" font-size=\"14.00\" fill=\"#000000\">X[5] &lt;= 30.95</text>\n<text text-anchor=\"middle\" x=\"433\" y=\"-334.8\" font-family=\"Times,serif\" font-size=\"14.00\" fill=\"#000000\">entropy = 0.404</text>\n<text text-anchor=\"middle\" x=\"433\" y=\"-319.8\" font-family=\"Times,serif\" font-size=\"14.00\" fill=\"#000000\">samples = 174</text>\n<text text-anchor=\"middle\" x=\"433\" y=\"-304.8\" font-family=\"Times,serif\" font-size=\"14.00\" fill=\"#000000\">value = [160, 14]</text>\n</g>\n<!-- 1&#45;&gt;2 -->\n<g id=\"edge2\" class=\"edge\">\n<title>1&#45;&gt;2</title>\n<path fill=\"none\" stroke=\"#000000\" d=\"M800.6277,-418.2906C722.085,-399.6412 595.2502,-369.5252 513.0008,-349.9956\"/>\n<polygon fill=\"#000000\" stroke=\"#000000\" points=\"513.7357,-346.5729 503.1976,-347.6679 512.1185,-353.3835 513.7357,-346.5729\"/>\n</g>\n<!-- 13 -->\n<g id=\"node14\" class=\"node\">\n<title>13</title>\n<polygon fill=\"#f3c6a5\" stroke=\"#000000\" points=\"938,-365 804,-365 804,-297 938,-297 938,-365\"/>\n<text text-anchor=\"middle\" x=\"871\" y=\"-349.8\" font-family=\"Times,serif\" font-size=\"14.00\" fill=\"#000000\">X[5] &lt;= 26.35</text>\n<text text-anchor=\"middle\" x=\"871\" y=\"-334.8\" font-family=\"Times,serif\" font-size=\"14.00\" fill=\"#000000\">entropy = 0.937</text>\n<text text-anchor=\"middle\" x=\"871\" y=\"-319.8\" font-family=\"Times,serif\" font-size=\"14.00\" fill=\"#000000\">samples = 133</text>\n<text text-anchor=\"middle\" x=\"871\" y=\"-304.8\" font-family=\"Times,serif\" font-size=\"14.00\" fill=\"#000000\">value = [86, 47]</text>\n</g>\n<!-- 1&#45;&gt;13 -->\n<g id=\"edge13\" class=\"edge\">\n<title>1&#45;&gt;13</title>\n<path fill=\"none\" stroke=\"#000000\" d=\"M871,-400.9465C871,-392.776 871,-383.9318 871,-375.3697\"/>\n<polygon fill=\"#000000\" stroke=\"#000000\" points=\"874.5001,-375.13 871,-365.13 867.5001,-375.13 874.5001,-375.13\"/>\n</g>\n<!-- 3 -->\n<g id=\"node4\" class=\"node\">\n<title>3</title>\n<polygon fill=\"#e6843d\" stroke=\"#000000\" points=\"274,-261 140,-261 140,-193 274,-193 274,-261\"/>\n<text text-anchor=\"middle\" x=\"207\" y=\"-245.8\" font-family=\"Times,serif\" font-size=\"14.00\" fill=\"#000000\">X[1] &lt;= 106.5</text>\n<text text-anchor=\"middle\" x=\"207\" y=\"-230.8\" font-family=\"Times,serif\" font-size=\"14.00\" fill=\"#000000\">entropy = 0.149</text>\n<text text-anchor=\"middle\" x=\"207\" y=\"-215.8\" font-family=\"Times,serif\" font-size=\"14.00\" fill=\"#000000\">samples = 94</text>\n<text text-anchor=\"middle\" x=\"207\" y=\"-200.8\" font-family=\"Times,serif\" font-size=\"14.00\" fill=\"#000000\">value = [92, 2]</text>\n</g>\n<!-- 2&#45;&gt;3 -->\n<g id=\"edge3\" class=\"edge\">\n<title>2&#45;&gt;3</title>\n<path fill=\"none\" stroke=\"#000000\" d=\"M362.731,-298.6638C337.5731,-287.0867 309.1012,-273.9846 283.4464,-262.1789\"/>\n<polygon fill=\"#000000\" stroke=\"#000000\" points=\"284.6809,-258.8942 274.1335,-257.8933 281.7546,-265.2532 284.6809,-258.8942\"/>\n</g>\n<!-- 8 -->\n<g id=\"node9\" class=\"node\">\n<title>8</title>\n<polygon fill=\"#ea975c\" stroke=\"#000000\" points=\"498.5,-261 367.5,-261 367.5,-193 498.5,-193 498.5,-261\"/>\n<text text-anchor=\"middle\" x=\"433\" y=\"-245.8\" font-family=\"Times,serif\" font-size=\"14.00\" fill=\"#000000\">X[2] &lt;= 53.0</text>\n<text text-anchor=\"middle\" x=\"433\" y=\"-230.8\" font-family=\"Times,serif\" font-size=\"14.00\" fill=\"#000000\">entropy = 0.61</text>\n<text text-anchor=\"middle\" x=\"433\" y=\"-215.8\" font-family=\"Times,serif\" font-size=\"14.00\" fill=\"#000000\">samples = 80</text>\n<text text-anchor=\"middle\" x=\"433\" y=\"-200.8\" font-family=\"Times,serif\" font-size=\"14.00\" fill=\"#000000\">value = [68, 12]</text>\n</g>\n<!-- 2&#45;&gt;8 -->\n<g id=\"edge8\" class=\"edge\">\n<title>2&#45;&gt;8</title>\n<path fill=\"none\" stroke=\"#000000\" d=\"M433,-296.9465C433,-288.776 433,-279.9318 433,-271.3697\"/>\n<polygon fill=\"#000000\" stroke=\"#000000\" points=\"436.5001,-271.13 433,-261.13 429.5001,-271.13 436.5001,-271.13\"/>\n</g>\n<!-- 4 -->\n<g id=\"node5\" class=\"node\">\n<title>4</title>\n<polygon fill=\"#e58139\" stroke=\"#000000\" points=\"122,-149.5 0,-149.5 0,-96.5 122,-96.5 122,-149.5\"/>\n<text text-anchor=\"middle\" x=\"61\" y=\"-134.3\" font-family=\"Times,serif\" font-size=\"14.00\" fill=\"#000000\">entropy = 0.0</text>\n<text text-anchor=\"middle\" x=\"61\" y=\"-119.3\" font-family=\"Times,serif\" font-size=\"14.00\" fill=\"#000000\">samples = 65</text>\n<text text-anchor=\"middle\" x=\"61\" y=\"-104.3\" font-family=\"Times,serif\" font-size=\"14.00\" fill=\"#000000\">value = [65, 0]</text>\n</g>\n<!-- 3&#45;&gt;4 -->\n<g id=\"edge4\" class=\"edge\">\n<title>3&#45;&gt;4</title>\n<path fill=\"none\" stroke=\"#000000\" d=\"M159.1941,-192.9465C142.3392,-180.9403 123.4419,-167.4791 106.7601,-155.5962\"/>\n<polygon fill=\"#000000\" stroke=\"#000000\" points=\"108.4367,-152.4933 98.2611,-149.5422 104.3753,-158.1947 108.4367,-152.4933\"/>\n</g>\n<!-- 5 -->\n<g id=\"node6\" class=\"node\">\n<title>5</title>\n<polygon fill=\"#e78a48\" stroke=\"#000000\" points=\"274,-157 140,-157 140,-89 274,-89 274,-157\"/>\n<text text-anchor=\"middle\" x=\"207\" y=\"-141.8\" font-family=\"Times,serif\" font-size=\"14.00\" fill=\"#000000\">X[0] &lt;= 2.5</text>\n<text text-anchor=\"middle\" x=\"207\" y=\"-126.8\" font-family=\"Times,serif\" font-size=\"14.00\" fill=\"#000000\">entropy = 0.362</text>\n<text text-anchor=\"middle\" x=\"207\" y=\"-111.8\" font-family=\"Times,serif\" font-size=\"14.00\" fill=\"#000000\">samples = 29</text>\n<text text-anchor=\"middle\" x=\"207\" y=\"-96.8\" font-family=\"Times,serif\" font-size=\"14.00\" fill=\"#000000\">value = [27, 2]</text>\n</g>\n<!-- 3&#45;&gt;5 -->\n<g id=\"edge5\" class=\"edge\">\n<title>3&#45;&gt;5</title>\n<path fill=\"none\" stroke=\"#000000\" d=\"M207,-192.9465C207,-184.776 207,-175.9318 207,-167.3697\"/>\n<polygon fill=\"#000000\" stroke=\"#000000\" points=\"210.5001,-167.13 207,-157.13 203.5001,-167.13 210.5001,-167.13\"/>\n</g>\n<!-- 6 -->\n<g id=\"node7\" class=\"node\">\n<title>6</title>\n<polygon fill=\"#e58139\" stroke=\"#000000\" points=\"195,-53 73,-53 73,0 195,0 195,-53\"/>\n<text text-anchor=\"middle\" x=\"134\" y=\"-37.8\" font-family=\"Times,serif\" font-size=\"14.00\" fill=\"#000000\">entropy = 0.0</text>\n<text text-anchor=\"middle\" x=\"134\" y=\"-22.8\" font-family=\"Times,serif\" font-size=\"14.00\" fill=\"#000000\">samples = 19</text>\n<text text-anchor=\"middle\" x=\"134\" y=\"-7.8\" font-family=\"Times,serif\" font-size=\"14.00\" fill=\"#000000\">value = [19, 0]</text>\n</g>\n<!-- 5&#45;&gt;6 -->\n<g id=\"edge6\" class=\"edge\">\n<title>5&#45;&gt;6</title>\n<path fill=\"none\" stroke=\"#000000\" d=\"M181.2629,-88.9777C174.4744,-80.0039 167.1404,-70.3089 160.3216,-61.295\"/>\n<polygon fill=\"#000000\" stroke=\"#000000\" points=\"163.059,-59.1121 154.2346,-53.2485 157.4763,-63.3352 163.059,-59.1121\"/>\n</g>\n<!-- 7 -->\n<g id=\"node8\" class=\"node\">\n<title>7</title>\n<polygon fill=\"#eca06a\" stroke=\"#000000\" points=\"347,-53 213,-53 213,0 347,0 347,-53\"/>\n<text text-anchor=\"middle\" x=\"280\" y=\"-37.8\" font-family=\"Times,serif\" font-size=\"14.00\" fill=\"#000000\">entropy = 0.722</text>\n<text text-anchor=\"middle\" x=\"280\" y=\"-22.8\" font-family=\"Times,serif\" font-size=\"14.00\" fill=\"#000000\">samples = 10</text>\n<text text-anchor=\"middle\" x=\"280\" y=\"-7.8\" font-family=\"Times,serif\" font-size=\"14.00\" fill=\"#000000\">value = [8, 2]</text>\n</g>\n<!-- 5&#45;&gt;7 -->\n<g id=\"edge7\" class=\"edge\">\n<title>5&#45;&gt;7</title>\n<path fill=\"none\" stroke=\"#000000\" d=\"M232.7371,-88.9777C239.5256,-80.0039 246.8596,-70.3089 253.6784,-61.295\"/>\n<polygon fill=\"#000000\" stroke=\"#000000\" points=\"256.5237,-63.3352 259.7654,-53.2485 250.941,-59.1121 256.5237,-63.3352\"/>\n</g>\n<!-- 9 -->\n<g id=\"node10\" class=\"node\">\n<title>9</title>\n<polygon fill=\"#6ab6ec\" stroke=\"#000000\" points=\"426,-149.5 292,-149.5 292,-96.5 426,-96.5 426,-149.5\"/>\n<text text-anchor=\"middle\" x=\"359\" y=\"-134.3\" font-family=\"Times,serif\" font-size=\"14.00\" fill=\"#000000\">entropy = 0.722</text>\n<text text-anchor=\"middle\" x=\"359\" y=\"-119.3\" font-family=\"Times,serif\" font-size=\"14.00\" fill=\"#000000\">samples = 5</text>\n<text text-anchor=\"middle\" x=\"359\" y=\"-104.3\" font-family=\"Times,serif\" font-size=\"14.00\" fill=\"#000000\">value = [1, 4]</text>\n</g>\n<!-- 8&#45;&gt;9 -->\n<g id=\"edge9\" class=\"edge\">\n<title>8&#45;&gt;9</title>\n<path fill=\"none\" stroke=\"#000000\" d=\"M408.7696,-192.9465C400.7754,-181.7113 391.8746,-169.2021 383.8358,-157.9043\"/>\n<polygon fill=\"#000000\" stroke=\"#000000\" points=\"386.5351,-155.6609 377.8858,-149.5422 380.8316,-159.7192 386.5351,-155.6609\"/>\n</g>\n<!-- 10 -->\n<g id=\"node11\" class=\"node\">\n<title>10</title>\n<polygon fill=\"#e89051\" stroke=\"#000000\" points=\"569.5,-157 444.5,-157 444.5,-89 569.5,-89 569.5,-157\"/>\n<text text-anchor=\"middle\" x=\"507\" y=\"-141.8\" font-family=\"Times,serif\" font-size=\"14.00\" fill=\"#000000\">X[1] &lt;= 89.5</text>\n<text text-anchor=\"middle\" x=\"507\" y=\"-126.8\" font-family=\"Times,serif\" font-size=\"14.00\" fill=\"#000000\">entropy = 0.49</text>\n<text text-anchor=\"middle\" x=\"507\" y=\"-111.8\" font-family=\"Times,serif\" font-size=\"14.00\" fill=\"#000000\">samples = 75</text>\n<text text-anchor=\"middle\" x=\"507\" y=\"-96.8\" font-family=\"Times,serif\" font-size=\"14.00\" fill=\"#000000\">value = [67, 8]</text>\n</g>\n<!-- 8&#45;&gt;10 -->\n<g id=\"edge10\" class=\"edge\">\n<title>8&#45;&gt;10</title>\n<path fill=\"none\" stroke=\"#000000\" d=\"M457.2304,-192.9465C463.4912,-184.1475 470.308,-174.5672 476.8313,-165.3993\"/>\n<polygon fill=\"#000000\" stroke=\"#000000\" points=\"479.7694,-167.3071 482.7152,-157.13 474.0658,-163.2488 479.7694,-167.3071\"/>\n</g>\n<!-- 11 -->\n<g id=\"node12\" class=\"node\">\n<title>11</title>\n<polygon fill=\"#e58139\" stroke=\"#000000\" points=\"564,-53 442,-53 442,0 564,0 564,-53\"/>\n<text text-anchor=\"middle\" x=\"503\" y=\"-37.8\" font-family=\"Times,serif\" font-size=\"14.00\" fill=\"#000000\">entropy = 0.0</text>\n<text text-anchor=\"middle\" x=\"503\" y=\"-22.8\" font-family=\"Times,serif\" font-size=\"14.00\" fill=\"#000000\">samples = 21</text>\n<text text-anchor=\"middle\" x=\"503\" y=\"-7.8\" font-family=\"Times,serif\" font-size=\"14.00\" fill=\"#000000\">value = [21, 0]</text>\n</g>\n<!-- 10&#45;&gt;11 -->\n<g id=\"edge11\" class=\"edge\">\n<title>10&#45;&gt;11</title>\n<path fill=\"none\" stroke=\"#000000\" d=\"M505.5897,-88.9777C505.2481,-80.7364 504.8813,-71.887 504.5343,-63.5153\"/>\n<polygon fill=\"#000000\" stroke=\"#000000\" points=\"508.02,-63.0949 504.1087,-53.2485 501.026,-63.3849 508.02,-63.0949\"/>\n</g>\n<!-- 12 -->\n<g id=\"node13\" class=\"node\">\n<title>12</title>\n<polygon fill=\"#ea975b\" stroke=\"#000000\" points=\"716,-53 582,-53 582,0 716,0 716,-53\"/>\n<text text-anchor=\"middle\" x=\"649\" y=\"-37.8\" font-family=\"Times,serif\" font-size=\"14.00\" fill=\"#000000\">entropy = 0.605</text>\n<text text-anchor=\"middle\" x=\"649\" y=\"-22.8\" font-family=\"Times,serif\" font-size=\"14.00\" fill=\"#000000\">samples = 54</text>\n<text text-anchor=\"middle\" x=\"649\" y=\"-7.8\" font-family=\"Times,serif\" font-size=\"14.00\" fill=\"#000000\">value = [46, 8]</text>\n</g>\n<!-- 10&#45;&gt;12 -->\n<g id=\"edge12\" class=\"edge\">\n<title>10&#45;&gt;12</title>\n<path fill=\"none\" stroke=\"#000000\" d=\"M557.0639,-88.9777C571.3469,-79.2713 586.8713,-68.7213 601.0263,-59.1018\"/>\n<polygon fill=\"#000000\" stroke=\"#000000\" points=\"603.3359,-61.764 609.6395,-53.2485 599.4014,-55.9744 603.3359,-61.764\"/>\n</g>\n<!-- 14 -->\n<g id=\"node15\" class=\"node\">\n<title>14</title>\n<polygon fill=\"#e68641\" stroke=\"#000000\" points=\"862,-261 728,-261 728,-193 862,-193 862,-261\"/>\n<text text-anchor=\"middle\" x=\"795\" y=\"-245.8\" font-family=\"Times,serif\" font-size=\"14.00\" fill=\"#000000\">X[1] &lt;= 122.5</text>\n<text text-anchor=\"middle\" x=\"795\" y=\"-230.8\" font-family=\"Times,serif\" font-size=\"14.00\" fill=\"#000000\">entropy = 0.229</text>\n<text text-anchor=\"middle\" x=\"795\" y=\"-215.8\" font-family=\"Times,serif\" font-size=\"14.00\" fill=\"#000000\">samples = 27</text>\n<text text-anchor=\"middle\" x=\"795\" y=\"-200.8\" font-family=\"Times,serif\" font-size=\"14.00\" fill=\"#000000\">value = [26, 1]</text>\n</g>\n<!-- 13&#45;&gt;14 -->\n<g id=\"edge14\" class=\"edge\">\n<title>13&#45;&gt;14</title>\n<path fill=\"none\" stroke=\"#000000\" d=\"M846.1148,-296.9465C839.6847,-288.1475 832.6837,-278.5672 825.9841,-269.3993\"/>\n<polygon fill=\"#000000\" stroke=\"#000000\" points=\"828.6672,-267.1389 819.9412,-261.13 823.0155,-271.269 828.6672,-267.1389\"/>\n</g>\n<!-- 17 -->\n<g id=\"node18\" class=\"node\">\n<title>17</title>\n<polygon fill=\"#f9e2d1\" stroke=\"#000000\" points=\"1014,-261 880,-261 880,-193 1014,-193 1014,-261\"/>\n<text text-anchor=\"middle\" x=\"947\" y=\"-245.8\" font-family=\"Times,serif\" font-size=\"14.00\" fill=\"#000000\">X[5] &lt;= 27.7</text>\n<text text-anchor=\"middle\" x=\"947\" y=\"-230.8\" font-family=\"Times,serif\" font-size=\"14.00\" fill=\"#000000\">entropy = 0.987</text>\n<text text-anchor=\"middle\" x=\"947\" y=\"-215.8\" font-family=\"Times,serif\" font-size=\"14.00\" fill=\"#000000\">samples = 106</text>\n<text text-anchor=\"middle\" x=\"947\" y=\"-200.8\" font-family=\"Times,serif\" font-size=\"14.00\" fill=\"#000000\">value = [60, 46]</text>\n</g>\n<!-- 13&#45;&gt;17 -->\n<g id=\"edge17\" class=\"edge\">\n<title>13&#45;&gt;17</title>\n<path fill=\"none\" stroke=\"#000000\" d=\"M895.8852,-296.9465C902.3153,-288.1475 909.3163,-278.5672 916.0159,-269.3993\"/>\n<polygon fill=\"#000000\" stroke=\"#000000\" points=\"918.9845,-271.269 922.0588,-261.13 913.3328,-267.1389 918.9845,-271.269\"/>\n</g>\n<!-- 15 -->\n<g id=\"node16\" class=\"node\">\n<title>15</title>\n<polygon fill=\"#e58139\" stroke=\"#000000\" points=\"710,-149.5 588,-149.5 588,-96.5 710,-96.5 710,-149.5\"/>\n<text text-anchor=\"middle\" x=\"649\" y=\"-134.3\" font-family=\"Times,serif\" font-size=\"14.00\" fill=\"#000000\">entropy = 0.0</text>\n<text text-anchor=\"middle\" x=\"649\" y=\"-119.3\" font-family=\"Times,serif\" font-size=\"14.00\" fill=\"#000000\">samples = 24</text>\n<text text-anchor=\"middle\" x=\"649\" y=\"-104.3\" font-family=\"Times,serif\" font-size=\"14.00\" fill=\"#000000\">value = [24, 0]</text>\n</g>\n<!-- 14&#45;&gt;15 -->\n<g id=\"edge15\" class=\"edge\">\n<title>14&#45;&gt;15</title>\n<path fill=\"none\" stroke=\"#000000\" d=\"M747.1941,-192.9465C730.3392,-180.9403 711.4419,-167.4791 694.7601,-155.5962\"/>\n<polygon fill=\"#000000\" stroke=\"#000000\" points=\"696.4367,-152.4933 686.2611,-149.5422 692.3753,-158.1947 696.4367,-152.4933\"/>\n</g>\n<!-- 16 -->\n<g id=\"node17\" class=\"node\">\n<title>16</title>\n<polygon fill=\"#f2c09c\" stroke=\"#000000\" points=\"862,-149.5 728,-149.5 728,-96.5 862,-96.5 862,-149.5\"/>\n<text text-anchor=\"middle\" x=\"795\" y=\"-134.3\" font-family=\"Times,serif\" font-size=\"14.00\" fill=\"#000000\">entropy = 0.918</text>\n<text text-anchor=\"middle\" x=\"795\" y=\"-119.3\" font-family=\"Times,serif\" font-size=\"14.00\" fill=\"#000000\">samples = 3</text>\n<text text-anchor=\"middle\" x=\"795\" y=\"-104.3\" font-family=\"Times,serif\" font-size=\"14.00\" fill=\"#000000\">value = [2, 1]</text>\n</g>\n<!-- 14&#45;&gt;16 -->\n<g id=\"edge16\" class=\"edge\">\n<title>14&#45;&gt;16</title>\n<path fill=\"none\" stroke=\"#000000\" d=\"M795,-192.9465C795,-182.2621 795,-170.4254 795,-159.5742\"/>\n<polygon fill=\"#000000\" stroke=\"#000000\" points=\"798.5001,-159.5421 795,-149.5422 791.5001,-159.5422 798.5001,-159.5421\"/>\n</g>\n<!-- 18 -->\n<g id=\"node19\" class=\"node\">\n<title>18</title>\n<polygon fill=\"#52a9e8\" stroke=\"#000000\" points=\"1014,-157 880,-157 880,-89 1014,-89 1014,-157\"/>\n<text text-anchor=\"middle\" x=\"947\" y=\"-141.8\" font-family=\"Times,serif\" font-size=\"14.00\" fill=\"#000000\">X[3] &lt;= 25.5</text>\n<text text-anchor=\"middle\" x=\"947\" y=\"-126.8\" font-family=\"Times,serif\" font-size=\"14.00\" fill=\"#000000\">entropy = 0.503</text>\n<text text-anchor=\"middle\" x=\"947\" y=\"-111.8\" font-family=\"Times,serif\" font-size=\"14.00\" fill=\"#000000\">samples = 9</text>\n<text text-anchor=\"middle\" x=\"947\" y=\"-96.8\" font-family=\"Times,serif\" font-size=\"14.00\" fill=\"#000000\">value = [1, 8]</text>\n</g>\n<!-- 17&#45;&gt;18 -->\n<g id=\"edge18\" class=\"edge\">\n<title>17&#45;&gt;18</title>\n<path fill=\"none\" stroke=\"#000000\" d=\"M947,-192.9465C947,-184.776 947,-175.9318 947,-167.3697\"/>\n<polygon fill=\"#000000\" stroke=\"#000000\" points=\"950.5001,-167.13 947,-157.13 943.5001,-167.13 950.5001,-167.13\"/>\n</g>\n<!-- 21 -->\n<g id=\"node22\" class=\"node\">\n<title>21</title>\n<polygon fill=\"#f6d2b9\" stroke=\"#000000\" points=\"1166,-157 1032,-157 1032,-89 1166,-89 1166,-157\"/>\n<text text-anchor=\"middle\" x=\"1099\" y=\"-141.8\" font-family=\"Times,serif\" font-size=\"14.00\" fill=\"#000000\">X[6] &lt;= 0.179</text>\n<text text-anchor=\"middle\" x=\"1099\" y=\"-126.8\" font-family=\"Times,serif\" font-size=\"14.00\" fill=\"#000000\">entropy = 0.966</text>\n<text text-anchor=\"middle\" x=\"1099\" y=\"-111.8\" font-family=\"Times,serif\" font-size=\"14.00\" fill=\"#000000\">samples = 97</text>\n<text text-anchor=\"middle\" x=\"1099\" y=\"-96.8\" font-family=\"Times,serif\" font-size=\"14.00\" fill=\"#000000\">value = [59, 38]</text>\n</g>\n<!-- 17&#45;&gt;21 -->\n<g id=\"edge21\" class=\"edge\">\n<title>17&#45;&gt;21</title>\n<path fill=\"none\" stroke=\"#000000\" d=\"M996.7705,-192.9465C1010.8115,-183.3395 1026.214,-172.8009 1040.7068,-162.8848\"/>\n<polygon fill=\"#000000\" stroke=\"#000000\" points=\"1042.841,-165.6655 1049.1177,-157.13 1038.8882,-159.8883 1042.841,-165.6655\"/>\n</g>\n<!-- 19 -->\n<g id=\"node20\" class=\"node\">\n<title>19</title>\n<polygon fill=\"#399de5\" stroke=\"#000000\" points=\"862,-53 746,-53 746,0 862,0 862,-53\"/>\n<text text-anchor=\"middle\" x=\"804\" y=\"-37.8\" font-family=\"Times,serif\" font-size=\"14.00\" fill=\"#000000\">entropy = 0.0</text>\n<text text-anchor=\"middle\" x=\"804\" y=\"-22.8\" font-family=\"Times,serif\" font-size=\"14.00\" fill=\"#000000\">samples = 6</text>\n<text text-anchor=\"middle\" x=\"804\" y=\"-7.8\" font-family=\"Times,serif\" font-size=\"14.00\" fill=\"#000000\">value = [0, 6]</text>\n</g>\n<!-- 18&#45;&gt;19 -->\n<g id=\"edge19\" class=\"edge\">\n<title>18&#45;&gt;19</title>\n<path fill=\"none\" stroke=\"#000000\" d=\"M896.5835,-88.9777C882.2,-79.2713 866.5663,-68.7213 852.3115,-59.1018\"/>\n<polygon fill=\"#000000\" stroke=\"#000000\" points=\"853.8846,-55.941 843.6376,-53.2485 849.969,-61.7435 853.8846,-55.941\"/>\n</g>\n<!-- 20 -->\n<g id=\"node21\" class=\"node\">\n<title>20</title>\n<polygon fill=\"#9ccef2\" stroke=\"#000000\" points=\"1014,-53 880,-53 880,0 1014,0 1014,-53\"/>\n<text text-anchor=\"middle\" x=\"947\" y=\"-37.8\" font-family=\"Times,serif\" font-size=\"14.00\" fill=\"#000000\">entropy = 0.918</text>\n<text text-anchor=\"middle\" x=\"947\" y=\"-22.8\" font-family=\"Times,serif\" font-size=\"14.00\" fill=\"#000000\">samples = 3</text>\n<text text-anchor=\"middle\" x=\"947\" y=\"-7.8\" font-family=\"Times,serif\" font-size=\"14.00\" fill=\"#000000\">value = [1, 2]</text>\n</g>\n<!-- 18&#45;&gt;20 -->\n<g id=\"edge20\" class=\"edge\">\n<title>18&#45;&gt;20</title>\n<path fill=\"none\" stroke=\"#000000\" d=\"M947,-88.9777C947,-80.7364 947,-71.887 947,-63.5153\"/>\n<polygon fill=\"#000000\" stroke=\"#000000\" points=\"950.5001,-63.2484 947,-53.2485 943.5001,-63.2485 950.5001,-63.2484\"/>\n</g>\n<!-- 22 -->\n<g id=\"node23\" class=\"node\">\n<title>22</title>\n<polygon fill=\"#e78c4b\" stroke=\"#000000\" points=\"1166,-53 1032,-53 1032,0 1166,0 1166,-53\"/>\n<text text-anchor=\"middle\" x=\"1099\" y=\"-37.8\" font-family=\"Times,serif\" font-size=\"14.00\" fill=\"#000000\">entropy = 0.414</text>\n<text text-anchor=\"middle\" x=\"1099\" y=\"-22.8\" font-family=\"Times,serif\" font-size=\"14.00\" fill=\"#000000\">samples = 12</text>\n<text text-anchor=\"middle\" x=\"1099\" y=\"-7.8\" font-family=\"Times,serif\" font-size=\"14.00\" fill=\"#000000\">value = [11, 1]</text>\n</g>\n<!-- 21&#45;&gt;22 -->\n<g id=\"edge22\" class=\"edge\">\n<title>21&#45;&gt;22</title>\n<path fill=\"none\" stroke=\"#000000\" d=\"M1099,-88.9777C1099,-80.7364 1099,-71.887 1099,-63.5153\"/>\n<polygon fill=\"#000000\" stroke=\"#000000\" points=\"1102.5001,-63.2484 1099,-53.2485 1095.5001,-63.2485 1102.5001,-63.2484\"/>\n</g>\n<!-- 23 -->\n<g id=\"node24\" class=\"node\">\n<title>23</title>\n<polygon fill=\"#f9e2d2\" stroke=\"#000000\" points=\"1318,-53 1184,-53 1184,0 1318,0 1318,-53\"/>\n<text text-anchor=\"middle\" x=\"1251\" y=\"-37.8\" font-family=\"Times,serif\" font-size=\"14.00\" fill=\"#000000\">entropy = 0.988</text>\n<text text-anchor=\"middle\" x=\"1251\" y=\"-22.8\" font-family=\"Times,serif\" font-size=\"14.00\" fill=\"#000000\">samples = 85</text>\n<text text-anchor=\"middle\" x=\"1251\" y=\"-7.8\" font-family=\"Times,serif\" font-size=\"14.00\" fill=\"#000000\">value = [48, 37]</text>\n</g>\n<!-- 21&#45;&gt;23 -->\n<g id=\"edge23\" class=\"edge\">\n<title>21&#45;&gt;23</title>\n<path fill=\"none\" stroke=\"#000000\" d=\"M1152.5895,-88.9777C1168.0226,-79.1798 1184.8096,-68.5222 1200.0763,-58.8298\"/>\n<polygon fill=\"#000000\" stroke=\"#000000\" points=\"1202.3013,-61.5631 1208.8677,-53.2485 1198.5494,-55.6535 1202.3013,-61.5631\"/>\n</g>\n<!-- 25 -->\n<g id=\"node26\" class=\"node\">\n<title>25</title>\n<polygon fill=\"#edaa79\" stroke=\"#000000\" points=\"1679,-365 1545,-365 1545,-297 1679,-297 1679,-365\"/>\n<text text-anchor=\"middle\" x=\"1612\" y=\"-349.8\" font-family=\"Times,serif\" font-size=\"14.00\" fill=\"#000000\">X[1] &lt;= 145.5</text>\n<text text-anchor=\"middle\" x=\"1612\" y=\"-334.8\" font-family=\"Times,serif\" font-size=\"14.00\" fill=\"#000000\">entropy = 0.803</text>\n<text text-anchor=\"middle\" x=\"1612\" y=\"-319.8\" font-family=\"Times,serif\" font-size=\"14.00\" fill=\"#000000\">samples = 49</text>\n<text text-anchor=\"middle\" x=\"1612\" y=\"-304.8\" font-family=\"Times,serif\" font-size=\"14.00\" fill=\"#000000\">value = [37, 12]</text>\n</g>\n<!-- 24&#45;&gt;25 -->\n<g id=\"edge25\" class=\"edge\">\n<title>24&#45;&gt;25</title>\n<path fill=\"none\" stroke=\"#000000\" d=\"M1612,-400.9465C1612,-392.776 1612,-383.9318 1612,-375.3697\"/>\n<polygon fill=\"#000000\" stroke=\"#000000\" points=\"1615.5001,-375.13 1612,-365.13 1608.5001,-375.13 1615.5001,-375.13\"/>\n</g>\n<!-- 36 -->\n<g id=\"node37\" class=\"node\">\n<title>36</title>\n<polygon fill=\"#79bded\" stroke=\"#000000\" points=\"2119,-365 1979,-365 1979,-297 2119,-297 2119,-365\"/>\n<text text-anchor=\"middle\" x=\"2049\" y=\"-349.8\" font-family=\"Times,serif\" font-size=\"14.00\" fill=\"#000000\">X[6] &lt;= 0.3</text>\n<text text-anchor=\"middle\" x=\"2049\" y=\"-334.8\" font-family=\"Times,serif\" font-size=\"14.00\" fill=\"#000000\">entropy = 0.802</text>\n<text text-anchor=\"middle\" x=\"2049\" y=\"-319.8\" font-family=\"Times,serif\" font-size=\"14.00\" fill=\"#000000\">samples = 135</text>\n<text text-anchor=\"middle\" x=\"2049\" y=\"-304.8\" font-family=\"Times,serif\" font-size=\"14.00\" fill=\"#000000\">value = [33, 102]</text>\n</g>\n<!-- 24&#45;&gt;36 -->\n<g id=\"edge36\" class=\"edge\">\n<title>24&#45;&gt;36</title>\n<path fill=\"none\" stroke=\"#000000\" d=\"M1682.2116,-418.2906C1760.5751,-399.6412 1887.1202,-369.5252 1969.1819,-349.9956\"/>\n<polygon fill=\"#000000\" stroke=\"#000000\" points=\"1970.0447,-353.3881 1978.9626,-347.6679 1968.424,-346.5783 1970.0447,-353.3881\"/>\n</g>\n<!-- 26 -->\n<g id=\"node27\" class=\"node\">\n<title>26</title>\n<polygon fill=\"#e78c49\" stroke=\"#000000\" points=\"1603,-261 1469,-261 1469,-193 1603,-193 1603,-261\"/>\n<text text-anchor=\"middle\" x=\"1536\" y=\"-245.8\" font-family=\"Times,serif\" font-size=\"14.00\" fill=\"#000000\">X[1] &lt;= 135.0</text>\n<text text-anchor=\"middle\" x=\"1536\" y=\"-230.8\" font-family=\"Times,serif\" font-size=\"14.00\" fill=\"#000000\">entropy = 0.391</text>\n<text text-anchor=\"middle\" x=\"1536\" y=\"-215.8\" font-family=\"Times,serif\" font-size=\"14.00\" fill=\"#000000\">samples = 26</text>\n<text text-anchor=\"middle\" x=\"1536\" y=\"-200.8\" font-family=\"Times,serif\" font-size=\"14.00\" fill=\"#000000\">value = [24, 2]</text>\n</g>\n<!-- 25&#45;&gt;26 -->\n<g id=\"edge26\" class=\"edge\">\n<title>25&#45;&gt;26</title>\n<path fill=\"none\" stroke=\"#000000\" d=\"M1587.1148,-296.9465C1580.6847,-288.1475 1573.6837,-278.5672 1566.9841,-269.3993\"/>\n<polygon fill=\"#000000\" stroke=\"#000000\" points=\"1569.6672,-267.1389 1560.9412,-261.13 1564.0155,-271.269 1569.6672,-267.1389\"/>\n</g>\n<!-- 31 -->\n<g id=\"node32\" class=\"node\">\n<title>31</title>\n<polygon fill=\"#f9e2d1\" stroke=\"#000000\" points=\"1755,-261 1621,-261 1621,-193 1755,-193 1755,-261\"/>\n<text text-anchor=\"middle\" x=\"1688\" y=\"-245.8\" font-family=\"Times,serif\" font-size=\"14.00\" fill=\"#000000\">X[7] &lt;= 61.0</text>\n<text text-anchor=\"middle\" x=\"1688\" y=\"-230.8\" font-family=\"Times,serif\" font-size=\"14.00\" fill=\"#000000\">entropy = 0.988</text>\n<text text-anchor=\"middle\" x=\"1688\" y=\"-215.8\" font-family=\"Times,serif\" font-size=\"14.00\" fill=\"#000000\">samples = 23</text>\n<text text-anchor=\"middle\" x=\"1688\" y=\"-200.8\" font-family=\"Times,serif\" font-size=\"14.00\" fill=\"#000000\">value = [13, 10]</text>\n</g>\n<!-- 25&#45;&gt;31 -->\n<g id=\"edge31\" class=\"edge\">\n<title>25&#45;&gt;31</title>\n<path fill=\"none\" stroke=\"#000000\" d=\"M1636.8852,-296.9465C1643.3153,-288.1475 1650.3163,-278.5672 1657.0159,-269.3993\"/>\n<polygon fill=\"#000000\" stroke=\"#000000\" points=\"1659.9845,-271.269 1663.0588,-261.13 1654.3328,-267.1389 1659.9845,-271.269\"/>\n</g>\n<!-- 27 -->\n<g id=\"node28\" class=\"node\">\n<title>27</title>\n<polygon fill=\"#ea9a61\" stroke=\"#000000\" points=\"1458.5,-157 1333.5,-157 1333.5,-89 1458.5,-89 1458.5,-157\"/>\n<text text-anchor=\"middle\" x=\"1396\" y=\"-141.8\" font-family=\"Times,serif\" font-size=\"14.00\" fill=\"#000000\">X[7] &lt;= 32.5</text>\n<text text-anchor=\"middle\" x=\"1396\" y=\"-126.8\" font-family=\"Times,serif\" font-size=\"14.00\" fill=\"#000000\">entropy = 0.65</text>\n<text text-anchor=\"middle\" x=\"1396\" y=\"-111.8\" font-family=\"Times,serif\" font-size=\"14.00\" fill=\"#000000\">samples = 12</text>\n<text text-anchor=\"middle\" x=\"1396\" y=\"-96.8\" font-family=\"Times,serif\" font-size=\"14.00\" fill=\"#000000\">value = [10, 2]</text>\n</g>\n<!-- 26&#45;&gt;27 -->\n<g id=\"edge27\" class=\"edge\">\n<title>26&#45;&gt;27</title>\n<path fill=\"none\" stroke=\"#000000\" d=\"M1490.1588,-192.9465C1477.3471,-183.4293 1463.3048,-172.9978 1450.0656,-163.163\"/>\n<polygon fill=\"#000000\" stroke=\"#000000\" points=\"1452.0588,-160.2837 1441.9442,-157.13 1447.8845,-165.9029 1452.0588,-160.2837\"/>\n</g>\n<!-- 30 -->\n<g id=\"node31\" class=\"node\">\n<title>30</title>\n<polygon fill=\"#e58139\" stroke=\"#000000\" points=\"1599,-149.5 1477,-149.5 1477,-96.5 1599,-96.5 1599,-149.5\"/>\n<text text-anchor=\"middle\" x=\"1538\" y=\"-134.3\" font-family=\"Times,serif\" font-size=\"14.00\" fill=\"#000000\">entropy = 0.0</text>\n<text text-anchor=\"middle\" x=\"1538\" y=\"-119.3\" font-family=\"Times,serif\" font-size=\"14.00\" fill=\"#000000\">samples = 14</text>\n<text text-anchor=\"middle\" x=\"1538\" y=\"-104.3\" font-family=\"Times,serif\" font-size=\"14.00\" fill=\"#000000\">value = [14, 0]</text>\n</g>\n<!-- 26&#45;&gt;30 -->\n<g id=\"edge30\" class=\"edge\">\n<title>26&#45;&gt;30</title>\n<path fill=\"none\" stroke=\"#000000\" d=\"M1536.6549,-192.9465C1536.8603,-182.2621 1537.088,-170.4254 1537.2966,-159.5742\"/>\n<polygon fill=\"#000000\" stroke=\"#000000\" points=\"1540.7966,-159.6076 1537.4896,-149.5422 1533.7979,-159.473 1540.7966,-159.6076\"/>\n</g>\n<!-- 28 -->\n<g id=\"node29\" class=\"node\">\n<title>28</title>\n<polygon fill=\"#e58139\" stroke=\"#000000\" points=\"1452,-53 1336,-53 1336,0 1452,0 1452,-53\"/>\n<text text-anchor=\"middle\" x=\"1394\" y=\"-37.8\" font-family=\"Times,serif\" font-size=\"14.00\" fill=\"#000000\">entropy = 0.0</text>\n<text text-anchor=\"middle\" x=\"1394\" y=\"-22.8\" font-family=\"Times,serif\" font-size=\"14.00\" fill=\"#000000\">samples = 7</text>\n<text text-anchor=\"middle\" x=\"1394\" y=\"-7.8\" font-family=\"Times,serif\" font-size=\"14.00\" fill=\"#000000\">value = [7, 0]</text>\n</g>\n<!-- 27&#45;&gt;28 -->\n<g id=\"edge28\" class=\"edge\">\n<title>27&#45;&gt;28</title>\n<path fill=\"none\" stroke=\"#000000\" d=\"M1395.2949,-88.9777C1395.1241,-80.7364 1394.9407,-71.887 1394.7672,-63.5153\"/>\n<polygon fill=\"#000000\" stroke=\"#000000\" points=\"1398.2609,-63.1738 1394.5544,-53.2485 1391.2624,-63.3189 1398.2609,-63.1738\"/>\n</g>\n<!-- 29 -->\n<g id=\"node30\" class=\"node\">\n<title>29</title>\n<polygon fill=\"#f6d5bd\" stroke=\"#000000\" points=\"1604,-53 1470,-53 1470,0 1604,0 1604,-53\"/>\n<text text-anchor=\"middle\" x=\"1537\" y=\"-37.8\" font-family=\"Times,serif\" font-size=\"14.00\" fill=\"#000000\">entropy = 0.971</text>\n<text text-anchor=\"middle\" x=\"1537\" y=\"-22.8\" font-family=\"Times,serif\" font-size=\"14.00\" fill=\"#000000\">samples = 5</text>\n<text text-anchor=\"middle\" x=\"1537\" y=\"-7.8\" font-family=\"Times,serif\" font-size=\"14.00\" fill=\"#000000\">value = [3, 2]</text>\n</g>\n<!-- 27&#45;&gt;29 -->\n<g id=\"edge29\" class=\"edge\">\n<title>27&#45;&gt;29</title>\n<path fill=\"none\" stroke=\"#000000\" d=\"M1445.7113,-88.9777C1459.8937,-79.2713 1475.3088,-68.7213 1489.3642,-59.1018\"/>\n<polygon fill=\"#000000\" stroke=\"#000000\" points=\"1491.6411,-61.7847 1497.9167,-53.2485 1487.6876,-56.0081 1491.6411,-61.7847\"/>\n</g>\n<!-- 32 -->\n<g id=\"node33\" class=\"node\">\n<title>32</title>\n<polygon fill=\"#ffffff\" stroke=\"#000000\" points=\"1751.5,-157 1620.5,-157 1620.5,-89 1751.5,-89 1751.5,-157\"/>\n<text text-anchor=\"middle\" x=\"1686\" y=\"-141.8\" font-family=\"Times,serif\" font-size=\"14.00\" fill=\"#000000\">X[7] &lt;= 41.0</text>\n<text text-anchor=\"middle\" x=\"1686\" y=\"-126.8\" font-family=\"Times,serif\" font-size=\"14.00\" fill=\"#000000\">entropy = 1.0</text>\n<text text-anchor=\"middle\" x=\"1686\" y=\"-111.8\" font-family=\"Times,serif\" font-size=\"14.00\" fill=\"#000000\">samples = 20</text>\n<text text-anchor=\"middle\" x=\"1686\" y=\"-96.8\" font-family=\"Times,serif\" font-size=\"14.00\" fill=\"#000000\">value = [10, 10]</text>\n</g>\n<!-- 31&#45;&gt;32 -->\n<g id=\"edge32\" class=\"edge\">\n<title>31&#45;&gt;32</title>\n<path fill=\"none\" stroke=\"#000000\" d=\"M1687.3451,-192.9465C1687.188,-184.776 1687.0179,-175.9318 1686.8533,-167.3697\"/>\n<polygon fill=\"#000000\" stroke=\"#000000\" points=\"1690.3481,-167.0608 1686.6563,-157.13 1683.3494,-167.1955 1690.3481,-167.0608\"/>\n</g>\n<!-- 35 -->\n<g id=\"node36\" class=\"node\">\n<title>35</title>\n<polygon fill=\"#e58139\" stroke=\"#000000\" points=\"1886,-149.5 1770,-149.5 1770,-96.5 1886,-96.5 1886,-149.5\"/>\n<text text-anchor=\"middle\" x=\"1828\" y=\"-134.3\" font-family=\"Times,serif\" font-size=\"14.00\" fill=\"#000000\">entropy = 0.0</text>\n<text text-anchor=\"middle\" x=\"1828\" y=\"-119.3\" font-family=\"Times,serif\" font-size=\"14.00\" fill=\"#000000\">samples = 3</text>\n<text text-anchor=\"middle\" x=\"1828\" y=\"-104.3\" font-family=\"Times,serif\" font-size=\"14.00\" fill=\"#000000\">value = [3, 0]</text>\n</g>\n<!-- 31&#45;&gt;35 -->\n<g id=\"edge35\" class=\"edge\">\n<title>31&#45;&gt;35</title>\n<path fill=\"none\" stroke=\"#000000\" d=\"M1733.8412,-192.9465C1750.0035,-180.9403 1768.1242,-167.4791 1784.1205,-155.5962\"/>\n<polygon fill=\"#000000\" stroke=\"#000000\" points=\"1786.3299,-158.3151 1792.2702,-149.5422 1782.1556,-152.6958 1786.3299,-158.3151\"/>\n</g>\n<!-- 33 -->\n<g id=\"node34\" class=\"node\">\n<title>33</title>\n<polygon fill=\"#f1b991\" stroke=\"#000000\" points=\"1747.5,-53 1622.5,-53 1622.5,0 1747.5,0 1747.5,-53\"/>\n<text text-anchor=\"middle\" x=\"1685\" y=\"-37.8\" font-family=\"Times,serif\" font-size=\"14.00\" fill=\"#000000\">entropy = 0.89</text>\n<text text-anchor=\"middle\" x=\"1685\" y=\"-22.8\" font-family=\"Times,serif\" font-size=\"14.00\" fill=\"#000000\">samples = 13</text>\n<text text-anchor=\"middle\" x=\"1685\" y=\"-7.8\" font-family=\"Times,serif\" font-size=\"14.00\" fill=\"#000000\">value = [9, 4]</text>\n</g>\n<!-- 32&#45;&gt;33 -->\n<g id=\"edge33\" class=\"edge\">\n<title>32&#45;&gt;33</title>\n<path fill=\"none\" stroke=\"#000000\" d=\"M1685.6474,-88.9777C1685.562,-80.7364 1685.4703,-71.887 1685.3836,-63.5153\"/>\n<polygon fill=\"#000000\" stroke=\"#000000\" points=\"1688.8807,-63.2116 1685.2772,-53.2485 1681.8811,-63.2842 1688.8807,-63.2116\"/>\n</g>\n<!-- 34 -->\n<g id=\"node35\" class=\"node\">\n<title>34</title>\n<polygon fill=\"#5aade9\" stroke=\"#000000\" points=\"1900,-53 1766,-53 1766,0 1900,0 1900,-53\"/>\n<text text-anchor=\"middle\" x=\"1833\" y=\"-37.8\" font-family=\"Times,serif\" font-size=\"14.00\" fill=\"#000000\">entropy = 0.592</text>\n<text text-anchor=\"middle\" x=\"1833\" y=\"-22.8\" font-family=\"Times,serif\" font-size=\"14.00\" fill=\"#000000\">samples = 7</text>\n<text text-anchor=\"middle\" x=\"1833\" y=\"-7.8\" font-family=\"Times,serif\" font-size=\"14.00\" fill=\"#000000\">value = [1, 6]</text>\n</g>\n<!-- 32&#45;&gt;34 -->\n<g id=\"edge34\" class=\"edge\">\n<title>32&#45;&gt;34</title>\n<path fill=\"none\" stroke=\"#000000\" d=\"M1737.8267,-88.9777C1752.7521,-79.1798 1768.987,-68.5222 1783.7514,-58.8298\"/>\n<polygon fill=\"#000000\" stroke=\"#000000\" points=\"1785.8147,-61.6622 1792.2536,-53.2485 1781.9732,-55.8104 1785.8147,-61.6622\"/>\n</g>\n<!-- 37 -->\n<g id=\"node38\" class=\"node\">\n<title>37</title>\n<polygon fill=\"#deeffb\" stroke=\"#000000\" points=\"2116,-261 1982,-261 1982,-193 2116,-193 2116,-261\"/>\n<text text-anchor=\"middle\" x=\"2049\" y=\"-245.8\" font-family=\"Times,serif\" font-size=\"14.00\" fill=\"#000000\">X[2] &lt;= 57.0</text>\n<text text-anchor=\"middle\" x=\"2049\" y=\"-230.8\" font-family=\"Times,serif\" font-size=\"14.00\" fill=\"#000000\">entropy = 0.994</text>\n<text text-anchor=\"middle\" x=\"2049\" y=\"-215.8\" font-family=\"Times,serif\" font-size=\"14.00\" fill=\"#000000\">samples = 44</text>\n<text text-anchor=\"middle\" x=\"2049\" y=\"-200.8\" font-family=\"Times,serif\" font-size=\"14.00\" fill=\"#000000\">value = [20, 24]</text>\n</g>\n<!-- 36&#45;&gt;37 -->\n<g id=\"edge37\" class=\"edge\">\n<title>36&#45;&gt;37</title>\n<path fill=\"none\" stroke=\"#000000\" d=\"M2049,-296.9465C2049,-288.776 2049,-279.9318 2049,-271.3697\"/>\n<polygon fill=\"#000000\" stroke=\"#000000\" points=\"2052.5001,-271.13 2049,-261.13 2045.5001,-271.13 2052.5001,-271.13\"/>\n</g>\n<!-- 42 -->\n<g id=\"node43\" class=\"node\">\n<title>42</title>\n<polygon fill=\"#5aade9\" stroke=\"#000000\" points=\"2356,-261 2222,-261 2222,-193 2356,-193 2356,-261\"/>\n<text text-anchor=\"middle\" x=\"2289\" y=\"-245.8\" font-family=\"Times,serif\" font-size=\"14.00\" fill=\"#000000\">X[4] &lt;= 520.0</text>\n<text text-anchor=\"middle\" x=\"2289\" y=\"-230.8\" font-family=\"Times,serif\" font-size=\"14.00\" fill=\"#000000\">entropy = 0.592</text>\n<text text-anchor=\"middle\" x=\"2289\" y=\"-215.8\" font-family=\"Times,serif\" font-size=\"14.00\" fill=\"#000000\">samples = 91</text>\n<text text-anchor=\"middle\" x=\"2289\" y=\"-200.8\" font-family=\"Times,serif\" font-size=\"14.00\" fill=\"#000000\">value = [13, 78]</text>\n</g>\n<!-- 36&#45;&gt;42 -->\n<g id=\"edge42\" class=\"edge\">\n<title>36&#45;&gt;42</title>\n<path fill=\"none\" stroke=\"#000000\" d=\"M2119.0631,-300.6393C2148.2772,-287.9799 2182.2972,-273.2379 2212.1908,-260.284\"/>\n<polygon fill=\"#000000\" stroke=\"#000000\" points=\"2213.9562,-263.3335 2221.7401,-256.1459 2211.1729,-256.9106 2213.9562,-263.3335\"/>\n</g>\n<!-- 38 -->\n<g id=\"node39\" class=\"node\">\n<title>38</title>\n<polygon fill=\"#399de5\" stroke=\"#000000\" points=\"2036,-149.5 1920,-149.5 1920,-96.5 2036,-96.5 2036,-149.5\"/>\n<text text-anchor=\"middle\" x=\"1978\" y=\"-134.3\" font-family=\"Times,serif\" font-size=\"14.00\" fill=\"#000000\">entropy = 0.0</text>\n<text text-anchor=\"middle\" x=\"1978\" y=\"-119.3\" font-family=\"Times,serif\" font-size=\"14.00\" fill=\"#000000\">samples = 4</text>\n<text text-anchor=\"middle\" x=\"1978\" y=\"-104.3\" font-family=\"Times,serif\" font-size=\"14.00\" fill=\"#000000\">value = [0, 4]</text>\n</g>\n<!-- 37&#45;&gt;38 -->\n<g id=\"edge38\" class=\"edge\">\n<title>37&#45;&gt;38</title>\n<path fill=\"none\" stroke=\"#000000\" d=\"M2025.7519,-192.9465C2018.0818,-181.7113 2009.5418,-169.2021 2001.8289,-157.9043\"/>\n<polygon fill=\"#000000\" stroke=\"#000000\" points=\"2004.6491,-155.8277 1996.1201,-149.5422 1998.8678,-159.7745 2004.6491,-155.8277\"/>\n</g>\n<!-- 39 -->\n<g id=\"node40\" class=\"node\">\n<title>39</title>\n<polygon fill=\"#ffffff\" stroke=\"#000000\" points=\"2185.5,-157 2054.5,-157 2054.5,-89 2185.5,-89 2185.5,-157\"/>\n<text text-anchor=\"middle\" x=\"2120\" y=\"-141.8\" font-family=\"Times,serif\" font-size=\"14.00\" fill=\"#000000\">X[1] &lt;= 160.0</text>\n<text text-anchor=\"middle\" x=\"2120\" y=\"-126.8\" font-family=\"Times,serif\" font-size=\"14.00\" fill=\"#000000\">entropy = 1.0</text>\n<text text-anchor=\"middle\" x=\"2120\" y=\"-111.8\" font-family=\"Times,serif\" font-size=\"14.00\" fill=\"#000000\">samples = 40</text>\n<text text-anchor=\"middle\" x=\"2120\" y=\"-96.8\" font-family=\"Times,serif\" font-size=\"14.00\" fill=\"#000000\">value = [20, 20]</text>\n</g>\n<!-- 37&#45;&gt;39 -->\n<g id=\"edge39\" class=\"edge\">\n<title>37&#45;&gt;39</title>\n<path fill=\"none\" stroke=\"#000000\" d=\"M2072.2481,-192.9465C2078.255,-184.1475 2084.7955,-174.5672 2091.0543,-165.3993\"/>\n<polygon fill=\"#000000\" stroke=\"#000000\" points=\"2093.952,-167.3623 2096.6997,-157.13 2088.1707,-163.4155 2093.952,-167.3623\"/>\n</g>\n<!-- 40 -->\n<g id=\"node41\" class=\"node\">\n<title>40</title>\n<polygon fill=\"#f6d3b9\" stroke=\"#000000\" points=\"2052,-53 1918,-53 1918,0 2052,0 2052,-53\"/>\n<text text-anchor=\"middle\" x=\"1985\" y=\"-37.8\" font-family=\"Times,serif\" font-size=\"14.00\" fill=\"#000000\">entropy = 0.967</text>\n<text text-anchor=\"middle\" x=\"1985\" y=\"-22.8\" font-family=\"Times,serif\" font-size=\"14.00\" fill=\"#000000\">samples = 28</text>\n<text text-anchor=\"middle\" x=\"1985\" y=\"-7.8\" font-family=\"Times,serif\" font-size=\"14.00\" fill=\"#000000\">value = [17, 11]</text>\n</g>\n<!-- 39&#45;&gt;40 -->\n<g id=\"edge40\" class=\"edge\">\n<title>39&#45;&gt;40</title>\n<path fill=\"none\" stroke=\"#000000\" d=\"M2072.4041,-88.9777C2058.8252,-79.2713 2044.0661,-68.7213 2030.6088,-59.1018\"/>\n<polygon fill=\"#000000\" stroke=\"#000000\" points=\"2032.5908,-56.2164 2022.4202,-53.2485 2028.5201,-61.9111 2032.5908,-56.2164\"/>\n</g>\n<!-- 41 -->\n<g id=\"node42\" class=\"node\">\n<title>41</title>\n<polygon fill=\"#7bbeee\" stroke=\"#000000\" points=\"2204,-53 2070,-53 2070,0 2204,0 2204,-53\"/>\n<text text-anchor=\"middle\" x=\"2137\" y=\"-37.8\" font-family=\"Times,serif\" font-size=\"14.00\" fill=\"#000000\">entropy = 0.811</text>\n<text text-anchor=\"middle\" x=\"2137\" y=\"-22.8\" font-family=\"Times,serif\" font-size=\"14.00\" fill=\"#000000\">samples = 12</text>\n<text text-anchor=\"middle\" x=\"2137\" y=\"-7.8\" font-family=\"Times,serif\" font-size=\"14.00\" fill=\"#000000\">value = [3, 9]</text>\n</g>\n<!-- 39&#45;&gt;41 -->\n<g id=\"edge41\" class=\"edge\">\n<title>39&#45;&gt;41</title>\n<path fill=\"none\" stroke=\"#000000\" d=\"M2125.9936,-88.9777C2127.4615,-80.6449 2129.039,-71.6903 2130.5283,-63.2364\"/>\n<polygon fill=\"#000000\" stroke=\"#000000\" points=\"2133.9997,-63.7041 2132.2878,-53.2485 2127.1059,-62.4896 2133.9997,-63.7041\"/>\n</g>\n<!-- 43 -->\n<g id=\"node44\" class=\"node\">\n<title>43</title>\n<polygon fill=\"#53aae8\" stroke=\"#000000\" points=\"2356,-157 2222,-157 2222,-89 2356,-89 2356,-157\"/>\n<text text-anchor=\"middle\" x=\"2289\" y=\"-141.8\" font-family=\"Times,serif\" font-size=\"14.00\" fill=\"#000000\">X[1] &lt;= 173.5</text>\n<text text-anchor=\"middle\" x=\"2289\" y=\"-126.8\" font-family=\"Times,serif\" font-size=\"14.00\" fill=\"#000000\">entropy = 0.515</text>\n<text text-anchor=\"middle\" x=\"2289\" y=\"-111.8\" font-family=\"Times,serif\" font-size=\"14.00\" fill=\"#000000\">samples = 87</text>\n<text text-anchor=\"middle\" x=\"2289\" y=\"-96.8\" font-family=\"Times,serif\" font-size=\"14.00\" fill=\"#000000\">value = [10, 77]</text>\n</g>\n<!-- 42&#45;&gt;43 -->\n<g id=\"edge43\" class=\"edge\">\n<title>42&#45;&gt;43</title>\n<path fill=\"none\" stroke=\"#000000\" d=\"M2289,-192.9465C2289,-184.776 2289,-175.9318 2289,-167.3697\"/>\n<polygon fill=\"#000000\" stroke=\"#000000\" points=\"2292.5001,-167.13 2289,-157.13 2285.5001,-167.13 2292.5001,-167.13\"/>\n</g>\n<!-- 46 -->\n<g id=\"node47\" class=\"node\">\n<title>46</title>\n<polygon fill=\"#eeab7b\" stroke=\"#000000\" points=\"2508,-149.5 2374,-149.5 2374,-96.5 2508,-96.5 2508,-149.5\"/>\n<text text-anchor=\"middle\" x=\"2441\" y=\"-134.3\" font-family=\"Times,serif\" font-size=\"14.00\" fill=\"#000000\">entropy = 0.811</text>\n<text text-anchor=\"middle\" x=\"2441\" y=\"-119.3\" font-family=\"Times,serif\" font-size=\"14.00\" fill=\"#000000\">samples = 4</text>\n<text text-anchor=\"middle\" x=\"2441\" y=\"-104.3\" font-family=\"Times,serif\" font-size=\"14.00\" fill=\"#000000\">value = [3, 1]</text>\n</g>\n<!-- 42&#45;&gt;46 -->\n<g id=\"edge46\" class=\"edge\">\n<title>42&#45;&gt;46</title>\n<path fill=\"none\" stroke=\"#000000\" d=\"M2338.7705,-192.9465C2356.4791,-180.8301 2376.3532,-167.232 2393.8368,-155.2696\"/>\n<polygon fill=\"#000000\" stroke=\"#000000\" points=\"2395.9309,-158.0776 2402.2076,-149.5422 2391.9781,-152.3005 2395.9309,-158.0776\"/>\n</g>\n<!-- 44 -->\n<g id=\"node45\" class=\"node\">\n<title>44</title>\n<polygon fill=\"#5baee9\" stroke=\"#000000\" points=\"2356,-53 2222,-53 2222,0 2356,0 2356,-53\"/>\n<text text-anchor=\"middle\" x=\"2289\" y=\"-37.8\" font-family=\"Times,serif\" font-size=\"14.00\" fill=\"#000000\">entropy = 0.602</text>\n<text text-anchor=\"middle\" x=\"2289\" y=\"-22.8\" font-family=\"Times,serif\" font-size=\"14.00\" fill=\"#000000\">samples = 68</text>\n<text text-anchor=\"middle\" x=\"2289\" y=\"-7.8\" font-family=\"Times,serif\" font-size=\"14.00\" fill=\"#000000\">value = [10, 58]</text>\n</g>\n<!-- 43&#45;&gt;44 -->\n<g id=\"edge44\" class=\"edge\">\n<title>43&#45;&gt;44</title>\n<path fill=\"none\" stroke=\"#000000\" d=\"M2289,-88.9777C2289,-80.7364 2289,-71.887 2289,-63.5153\"/>\n<polygon fill=\"#000000\" stroke=\"#000000\" points=\"2292.5001,-63.2484 2289,-53.2485 2285.5001,-63.2485 2292.5001,-63.2484\"/>\n</g>\n<!-- 45 -->\n<g id=\"node46\" class=\"node\">\n<title>45</title>\n<polygon fill=\"#399de5\" stroke=\"#000000\" points=\"2496,-53 2374,-53 2374,0 2496,0 2496,-53\"/>\n<text text-anchor=\"middle\" x=\"2435\" y=\"-37.8\" font-family=\"Times,serif\" font-size=\"14.00\" fill=\"#000000\">entropy = 0.0</text>\n<text text-anchor=\"middle\" x=\"2435\" y=\"-22.8\" font-family=\"Times,serif\" font-size=\"14.00\" fill=\"#000000\">samples = 19</text>\n<text text-anchor=\"middle\" x=\"2435\" y=\"-7.8\" font-family=\"Times,serif\" font-size=\"14.00\" fill=\"#000000\">value = [0, 19]</text>\n</g>\n<!-- 43&#45;&gt;45 -->\n<g id=\"edge45\" class=\"edge\">\n<title>43&#45;&gt;45</title>\n<path fill=\"none\" stroke=\"#000000\" d=\"M2340.4741,-88.9777C2355.298,-79.1798 2371.4224,-68.5222 2386.0865,-58.8298\"/>\n<polygon fill=\"#000000\" stroke=\"#000000\" points=\"2388.1183,-61.6824 2394.5308,-53.2485 2384.2585,-55.8427 2388.1183,-61.6824\"/>\n</g>\n</g>\n</svg>\n"
     },
     "metadata": {}
    }
   ]
  },
  {
   "cell_type": "markdown",
   "source": "#### Use the graph above to answer the questions below",
   "metadata": {
    "colab_type": "text",
    "id": "4iz4meWDVmo2",
    "cell_id": "00020-1733dc17-0f35-4a82-8707-518345fe189d",
    "deepnote_cell_type": "markdown"
   }
  },
  {
   "cell_type": "markdown",
   "source": "Question 1: What do you think X[n] represents in the nodes from the graph?\n\nXn should be representing the feature numbers in the nodes from the graph.",
   "metadata": {
    "colab_type": "text",
    "id": "u1yM9h10WUEv",
    "cell_id": "00021-e493e248-2ee0-438b-8e2c-eccc48cd6d58",
    "deepnote_cell_type": "markdown"
   }
  },
  {
   "cell_type": "markdown",
   "source": "Question 2: What is the root feature? Does it make sense as the root feature?\n\nThe root feature is Plas <= 127.5. This makes sense as the root feature, because it is the most generic (highest correlation).",
   "metadata": {
    "colab_type": "text",
    "id": "rA7B0oTaWUIe",
    "cell_id": "00022-8cc156ef-a5b0-410d-a57e-8b50947e9ccb",
    "deepnote_cell_type": "markdown"
   }
  },
  {
   "cell_type": "markdown",
   "source": "Question 3: If you were to change the parameters to have a max_depth of 500 and min_samples_leaf of 1, what do you think the effect would be on the test accuracy? Training accuracy?\n\nTest accuracy would decrease significantly, because the model would be overfitted to the training, as a result, the training accuracy would be high.\n\n",
   "metadata": {
    "colab_type": "text",
    "id": "1t559pS3ZHES",
    "cell_id": "00023-441adfee-d607-417e-9b62-995291385964",
    "deepnote_cell_type": "markdown"
   }
  },
  {
   "cell_type": "markdown",
   "source": "**Test your guesses, create a model with max_depth=500 and min_samples_leaf=1, and predict values for the training and validation data**",
   "metadata": {
    "colab_type": "text",
    "id": "7dnlqId2bIcR",
    "cell_id": "00024-f3cb0c69-a7c4-46be-81d2-7a13bbdbbfc6",
    "deepnote_cell_type": "markdown"
   }
  },
  {
   "cell_type": "code",
   "metadata": {
    "colab": {
     "autoexec": {
      "startup": false,
      "wait_interval": 0
     },
     "base_uri": "https://localhost:8080/",
     "height": 17
    },
    "colab_type": "code",
    "executionInfo": {
     "elapsed": 235,
     "status": "ok",
     "timestamp": 1530627843330,
     "user": {
      "displayName": "john passarelli",
      "photoUrl": "https://lh3.googleusercontent.com/a/default-user=s128",
      "userId": "102241934905781120798"
     },
     "user_tz": 240
    },
    "id": "hnUQKX9vl9Gy",
    "outputId": "ebaa5e52-a33f-4749-a3f6-6a3fde24da1f",
    "deepnote_to_be_reexecuted": false,
    "source_hash": "325f0cad",
    "execution_start": 1625688793471,
    "execution_millis": 9,
    "cell_id": "00025-0a6bb25d-6ab8-4471-b2cc-e0a2efa896dd",
    "deepnote_cell_type": "code"
   },
   "source": "## YOUR CODE HERE\n\ndecision_tree = DecisionTreeClassifier(criterion = \"entropy\", random_state = None,\n                              max_depth=500, min_samples_leaf=1)\ndecision_tree.fit(X_train, y_train)\n\ny_train_pred=decision_tree.predict(X_train)\nprint(\"Training Accuracy :\", accuracy_score(y_train, y_train_pred)*100, end = '%')\ny_val_pred=decision_tree.predict(X_val)\nprint(\"\\nValidation Accuracy :\", accuracy_score(y_val,y_val_pred)*100, end = '%')\n                            ",
   "execution_count": null,
   "outputs": [
    {
     "name": "stdout",
     "text": "Training Accuracy : 100.0%\nValidation Accuracy : 67.47967479674797%",
     "output_type": "stream"
    }
   ]
  },
  {
   "cell_type": "markdown",
   "source": "# Random Forest",
   "metadata": {
    "colab_type": "text",
    "id": "40Psyt65pD8p",
    "cell_id": "00026-3a218a88-3890-493d-a0dc-2dc34c80404b",
    "deepnote_cell_type": "markdown"
   }
  },
  {
   "cell_type": "markdown",
   "source": "## Creating Model\n\nCreate a model with sklearn's RandomForestClassifier and predict values on your validation set.",
   "metadata": {
    "colab_type": "text",
    "id": "mjLu1MLIpGNF",
    "cell_id": "00027-dc7cff86-7d1b-462a-9309-2ca0aad92e95",
    "deepnote_cell_type": "markdown"
   }
  },
  {
   "cell_type": "code",
   "metadata": {
    "colab": {
     "autoexec": {
      "startup": false,
      "wait_interval": 0
     },
     "base_uri": "https://localhost:8080/",
     "height": 37
    },
    "colab_type": "code",
    "executionInfo": {
     "elapsed": 318,
     "status": "ok",
     "timestamp": 1530627847311,
     "user": {
      "displayName": "john passarelli",
      "photoUrl": "https://lh3.googleusercontent.com/a/default-user=s128",
      "userId": "102241934905781120798"
     },
     "user_tz": 240
    },
    "id": "TYwbpWxUfDIY",
    "outputId": "0008a18f-a9e3-4c04-b42e-adc8ce9aa966",
    "deepnote_to_be_reexecuted": false,
    "source_hash": "823e7360",
    "execution_start": 1625687948810,
    "execution_millis": 71,
    "cell_id": "00028-d58b3d69-82c5-44df-b619-52501ae78654",
    "deepnote_cell_type": "code"
   },
   "source": "## YOUR CODE HERE\nrandom_forest = RandomForestClassifier(n_estimators=30)\n\n# Training/fitting the model with training data\nrandom_forest.fit(X_train, y_train)",
   "execution_count": null,
   "outputs": [
    {
     "output_type": "execute_result",
     "execution_count": 36,
     "data": {
      "text/plain": "RandomForestClassifier(n_estimators=30)"
     },
     "metadata": {}
    }
   ]
  },
  {
   "cell_type": "markdown",
   "source": "Print accuracy of training and validation data.",
   "metadata": {
    "colab_type": "text",
    "id": "6Ys_J3O4pd0u",
    "cell_id": "00029-25ae8d69-d554-4984-8f80-b38e5a46bc4d",
    "deepnote_cell_type": "markdown"
   }
  },
  {
   "cell_type": "code",
   "metadata": {
    "colab": {
     "autoexec": {
      "startup": false,
      "wait_interval": 0
     },
     "base_uri": "https://localhost:8080/",
     "height": 17
    },
    "colab_type": "code",
    "executionInfo": {
     "elapsed": 337,
     "status": "ok",
     "timestamp": 1530627851278,
     "user": {
      "displayName": "john passarelli",
      "photoUrl": "https://lh3.googleusercontent.com/a/default-user=s128",
      "userId": "102241934905781120798"
     },
     "user_tz": 240
    },
    "id": "aQdfjEWdfDOH",
    "outputId": "751008b5-156c-4bea-d599-37f84bd1b60c",
    "deepnote_to_be_reexecuted": false,
    "source_hash": "23bafc6e",
    "execution_start": 1625687951223,
    "execution_millis": 25,
    "cell_id": "00030-1689bbcd-7a55-458a-a4b7-cbbbeaf2faa0",
    "deepnote_cell_type": "code"
   },
   "source": "## YOUR CODE HERE\ny_train_pred=random_forest.predict(X_train)\nprint(\"Training Accuracy :\", accuracy_score(y_train, y_train_pred)*100, end = '%')\ny_val_pred=random_forest.predict(X_val)\nprint(\"\\nValidation Accuracy : \", accuracy_score(y_val,y_val_pred)*100, end = '%')",
   "execution_count": null,
   "outputs": [
    {
     "name": "stdout",
     "text": "Training Accuracy : 99.79633401221996%\nValidation Accuracy :  73.98373983739837%",
     "output_type": "stream"
    }
   ]
  },
  {
   "cell_type": "markdown",
   "source": "How did the accuracy compare to the decision tree's accuracy?\n\nFor most n_estimator values, the training accuracy of the random forest algorithm was significantly high. However, the validation accuracy of the algorithm was comparatively low, which indicates that the model is overfitted. ",
   "metadata": {
    "cell_id": "00031-e20c6b5c-eff3-4bce-a909-e4c19bae90bf",
    "deepnote_cell_type": "markdown"
   }
  },
  {
   "cell_type": "markdown",
   "source": "Print the 3 most important features (hint: sklearn has an attribute to help you find these)",
   "metadata": {
    "colab_type": "text",
    "id": "jGlSHxuUqAnX",
    "cell_id": "00032-b031999b-8202-453e-afa2-4310397564b4",
    "deepnote_cell_type": "markdown"
   }
  },
  {
   "cell_type": "code",
   "metadata": {
    "colab": {
     "autoexec": {
      "startup": false,
      "wait_interval": 0
     },
     "base_uri": "https://localhost:8080/",
     "height": 17
    },
    "colab_type": "code",
    "executionInfo": {
     "elapsed": 448,
     "status": "ok",
     "timestamp": 1530627855691,
     "user": {
      "displayName": "john passarelli",
      "photoUrl": "https://lh3.googleusercontent.com/a/default-user=s128",
      "userId": "102241934905781120798"
     },
     "user_tz": 240
    },
    "id": "5rVekWn0qw3r",
    "outputId": "d5e516d3-4f91-4394-b2e5-f26427b404ef",
    "deepnote_to_be_reexecuted": false,
    "source_hash": "6b1bec77",
    "execution_start": 1625696019864,
    "execution_millis": 9,
    "cell_id": "00033-aa0bc40f-c62b-4aea-81f2-7d108e969a60",
    "deepnote_cell_type": "code"
   },
   "source": "# ## YOUR CODE HERE\nfinal = []\nimportances = random_forest.feature_importances_\nprint(importances) #X_cols = ['preg', 'plas', 'pres', 'skin', 'test', 'mass', 'pedi', 'age']\nfor i, v in enumerate(importances):\n    final.append([v, i])\nprint(final)\nfinals = sorted(final)\nprint(finals)\nfinals[-3:]\n# age, mass, plas",
   "execution_count": null,
   "outputs": [
    {
     "name": "stdout",
     "text": "[0.09088435 0.23597879 0.08990443 0.06615671 0.06865464 0.17660261\n 0.12690375 0.14491472]\n[[0.0908843488427874, 0], [0.23597878750193543, 1], [0.08990442865110146, 2], [0.06615671120213976, 3], [0.06865464109265718, 4], [0.1766026094130591, 5], [0.12690374832806778, 6], [0.14491472496825192, 7]]\n[[0.06615671120213976, 3], [0.06865464109265718, 4], [0.08990442865110146, 2], [0.0908843488427874, 0], [0.12690374832806778, 6], [0.14491472496825192, 7], [0.1766026094130591, 5], [0.23597878750193543, 1]]\n",
     "output_type": "stream"
    },
    {
     "output_type": "execute_result",
     "execution_count": 91,
     "data": {
      "text/plain": "[[0.14491472496825192, 7], [0.1766026094130591, 5], [0.23597878750193543, 1]]"
     },
     "metadata": {}
    }
   ]
  },
  {
   "cell_type": "markdown",
   "source": "Find the accuracy for random forests with 1 to 100 trees, counting by 5. Print and then plot these accuracies.",
   "metadata": {
    "colab_type": "text",
    "id": "lynu8pLDtd0S",
    "cell_id": "00034-4a869d8f-5bb6-403e-93c1-983eee88a1b4",
    "deepnote_cell_type": "markdown"
   }
  },
  {
   "cell_type": "code",
   "metadata": {
    "colab": {
     "autoexec": {
      "startup": false,
      "wait_interval": 0
     },
     "base_uri": "https://localhost:8080/",
     "height": 17
    },
    "colab_type": "code",
    "executionInfo": {
     "elapsed": 371,
     "status": "ok",
     "timestamp": 1530627860158,
     "user": {
      "displayName": "john passarelli",
      "photoUrl": "https://lh3.googleusercontent.com/a/default-user=s128",
      "userId": "102241934905781120798"
     },
     "user_tz": 240
    },
    "id": "e2hG7npcuM7f",
    "outputId": "fb9e32ed-fb17-462e-a2f2-8db7964bb3d7",
    "deepnote_to_be_reexecuted": false,
    "source_hash": "e93877a4",
    "execution_start": 1625689818906,
    "execution_millis": 2945,
    "cell_id": "00035-d4271898-a5b1-42f1-81ab-2b6ab1db2d76",
    "deepnote_cell_type": "code"
   },
   "source": "## YOUR CODE HERE\n\n#y_train_pred=random_forest.predict(X_train)\n#print(\"Training Accuracy :\", accuracy_score(y_train, y_train_pred)*100, end = '%')\n#y_val_pred = random_forest.predict(X_val)\n#print(\"\\nValidation Accuracy :\", accuracy_score(y_val,y_val_pred)*100, end = '%')\n\nacc = []\n\nfor i in range(1,101,5): \n    random_forest = RandomForestClassifier(n_estimators= i)\n    random_forest.fit(X_train, y_train)\n    y_train_pred=random_forest.predict(X_train)\n    y_val_pred=random_forest.predict(X_val)\n    acc.append(accuracy_score(y_train, y_train_pred)) \nprint(acc)\nplt.plot(acc)\n\n",
   "execution_count": null,
   "outputs": [
    {
     "name": "stdout",
     "text": "[0.8981670061099797, 0.9592668024439919, 0.9857433808553971, 0.9938900203665988, 0.9979633401221996, 0.9959266802443992, 1.0, 0.9979633401221996, 1.0, 1.0, 1.0, 1.0, 1.0, 1.0, 1.0, 0.9979633401221996, 1.0, 1.0, 1.0, 1.0]\n",
     "output_type": "stream"
    },
    {
     "output_type": "execute_result",
     "execution_count": 66,
     "data": {
      "text/plain": "[<matplotlib.lines.Line2D at 0x7f2a9bb55b90>]"
     },
     "metadata": {}
    },
    {
     "data": {
      "text/plain": "<Figure size 432x288 with 1 Axes>",
      "image/png": "[encoded data removed]"
     },
     "metadata": {
      "needs_background": "light",
      "image/png": {
       "width": 378,
       "height": 248
      }
     },
     "output_type": "display_data"
    }
   ]
  },
  {
   "cell_type": "markdown",
   "source": "Plot the roc_curve using predict_proba a function for our random forest model, and metrics.roc_curve\n\nIt might help to google these functions and look at sklearn's documentation.",
   "metadata": {
    "cell_id": "00036-089d4025-b957-4446-bb06-696edf766add",
    "deepnote_cell_type": "markdown"
   }
  },
  {
   "cell_type": "code",
   "metadata": {
    "deepnote_to_be_reexecuted": false,
    "source_hash": "64613c4a",
    "execution_start": 1625689461625,
    "execution_millis": 236,
    "cell_id": "00037-0201507a-ce9e-427c-b975-7ed527ce8cbf",
    "deepnote_cell_type": "code"
   },
   "source": "## YOUR CODE HERE\n#labels = [0,1]\ny_val_prob = random_forest.predict_proba(X_val)\nfpr, tpr, thresholds = metrics.roc_curve(y_val, y_val_prob[:,1])\nroc_auc = metrics.auc(fpr, tpr)\nplt.figure(figsize=(6,6))\nlw = 2\nplt.plot(fpr, tpr, color='darkorange',\n         lw=lw, label='ROC curve (area = %0.2f)' % roc_auc)\nplt.plot([0, 1], [0, 1], color='navy', lw=lw, linestyle='--')\nplt.xlim([0.0, 1.0])\nplt.ylim([0.0, 1.0])\nplt.xlabel('False Positive Rate')\nplt.ylabel('True Positive Rate')\nplt.title('Receiver operating characteristic')\nplt.legend(loc=\"lower right\")\nplt.show()",
   "execution_count": null,
   "outputs": [
    {
     "data": {
      "text/plain": "<Figure size 432x432 with 1 Axes>",
      "image/png": "[encoded data removed]"
     },
     "metadata": {
      "needs_background": "light",
      "image/png": {
       "width": 394,
       "height": 387
      }
     },
     "output_type": "display_data"
    }
   ]
  },
  {
   "cell_type": "code",
   "metadata": {
    "tags": [],
    "cell_id": "00038-7fd17e1d-4739-4b79-9c29-b7915b8a539d",
    "deepnote_cell_type": "code"
   },
   "source": "",
   "execution_count": null,
   "outputs": []
  },
  {
   "cell_type": "markdown",
   "source": "<a style='text-decoration:none;line-height:16px;display:flex;color:#5B5B62;padding:10px;justify-content:end;' href='https://deepnote.com?utm_source=created-in-deepnote-cell&projectId=0e58ff94-2716-4c23-bc14-d1bdf69b13de' target=\"_blank\">\n<img alt='Created in deepnote.com' style='display:inline;max-height:16px;margin:0px;margin-right:7.5px;' src='data:image/svg+xml;base64,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' > </img>\nCreated in <span style='font-weight:600;margin-left:4px;'>Deepnote</span></a>",
   "metadata": {
    "tags": [],
    "created_in_deepnote_cell": true,
    "deepnote_cell_type": "markdown"
   }
  }
 ],
 "nbformat": 4,
 "nbformat_minor": 1,
 "metadata": {
  "colab": {
   "collapsed_sections": [],
   "default_view": {},
   "name": "DecisionTreeWorksheetStudent",
   "provenance": [
    {
     "file_id": "165CSmT99w4_Sv1UENIyvIkH7ZEw2Xeh8",
     "timestamp": 1527780043079
    }
   ],
   "version": "0.3.2",
   "views": {}
  },
  "kernelspec": {
   "display_name": "Python 3",
   "language": "python",
   "name": "python3"
  },
  "language_info": {
   "codemirror_mode": {
    "name": "ipython",
    "version": 3
   },
   "file_extension": ".py",
   "mimetype": "text/x-python",
   "name": "python",
   "nbconvert_exporter": "python",
   "pygments_lexer": "ipython3",
   "version": "3.7.3"
  },
  "deepnote_notebook_id": "19bcb829-8fec-4397-bc6e-bed89798fd04",
  "deepnote": {},
  "deepnote_execution_queue": []
 }
}