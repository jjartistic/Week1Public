{
 "cells": [
  {
   "cell_type": "markdown",
   "source": "# SVM Exercises",
   "metadata": {
    "colab_type": "text",
    "id": "-UimMCmGe19F",
    "cell_id": "00000-5fb60405-7278-4857-8f1c-83bb20c68574",
    "deepnote_cell_type": "markdown"
   }
  },
  {
   "cell_type": "code",
   "metadata": {
    "colab_type": "code",
    "id": "kedW02LgKjVL",
    "colab": {},
    "cell_id": "00001-e1a4c03d-1183-4e13-9038-a7bab56993a8",
    "deepnote_to_be_reexecuted": false,
    "source_hash": "e026d9ad",
    "execution_start": 1625685967912,
    "execution_millis": 2667,
    "deepnote_cell_type": "code"
   },
   "source": "import numpy as np\nimport pandas as pd\nfrom sklearn.model_selection import train_test_split\nimport matplotlib.pyplot as plt\n\nfrom sklearn import svm\nfrom sklearn.metrics import accuracy_score\nfrom sklearn.svm import SVC\nfrom sklearn import metrics",
   "execution_count": null,
   "outputs": []
  },
  {
   "cell_type": "markdown",
   "source": "Load Pima diabetes dataset",
   "metadata": {
    "id": "RxeCyhoaTAQC",
    "colab_type": "text",
    "cell_id": "00002-6549e6ea-d8ee-496c-9ca2-d38022789760",
    "deepnote_cell_type": "markdown"
   }
  },
  {
   "cell_type": "code",
   "metadata": {
    "colab_type": "code",
    "id": "Ydh9gmDkMGmu",
    "colab": {},
    "cell_id": "00003-87baad52-5175-4fb5-ae95-5c4802dd342d",
    "deepnote_to_be_reexecuted": false,
    "source_hash": "583be8f6",
    "execution_start": 1625685970605,
    "execution_millis": 144,
    "deepnote_cell_type": "code"
   },
   "source": "url = \"https://raw.githubusercontent.com/BeaverWorksMedlytics2020/Data_Public/master/NotebookExampleData/Week1/diabetes.csv\"\nnames = ['preg', 'plas', 'pres', 'skin', 'test', 'mass', 'pedi', 'age', 'class']\n\n# YOUR CODE HERE\n\ndata = pd.read_csv(url, names=names)\ndata.head()",
   "execution_count": null,
   "outputs": [
    {
     "output_type": "execute_result",
     "execution_count": 2,
     "data": {
      "application/vnd.deepnote.dataframe.v2+json": {
       "row_count": 5,
       "column_count": 9,
       "columns": [
        {
         "name": "preg",
         "dtype": "int64",
         "stats": {
          "unique_count": 4,
          "nan_count": 0,
          "min": "0",
          "max": "8",
          "histogram": [
           {
            "bin_start": 0,
            "bin_end": 0.8,
            "count": 1
           },
           {
            "bin_start": 0.8,
            "bin_end": 1.6,
            "count": 2
           },
           {
            "bin_start": 1.6,
            "bin_end": 2.4000000000000004,
            "count": 0
           },
           {
            "bin_start": 2.4000000000000004,
            "bin_end": 3.2,
            "count": 0
           },
           {
            "bin_start": 3.2,
            "bin_end": 4,
            "count": 0
           },
           {
            "bin_start": 4,
            "bin_end": 4.800000000000001,
            "count": 0
           },
           {
            "bin_start": 4.800000000000001,
            "bin_end": 5.6000000000000005,
            "count": 0
           },
           {
            "bin_start": 5.6000000000000005,
            "bin_end": 6.4,
            "count": 1
           },
           {
            "bin_start": 6.4,
            "bin_end": 7.2,
            "count": 0
           },
           {
            "bin_start": 7.2,
            "bin_end": 8,
            "count": 1
           }
          ]
         }
        },
        {
         "name": "plas",
         "dtype": "int64",
         "stats": {
          "unique_count": 5,
          "nan_count": 0,
          "min": "85",
          "max": "183",
          "histogram": [
           {
            "bin_start": 85,
            "bin_end": 94.8,
            "count": 2
           },
           {
            "bin_start": 94.8,
            "bin_end": 104.6,
            "count": 0
           },
           {
            "bin_start": 104.6,
            "bin_end": 114.4,
            "count": 0
           },
           {
            "bin_start": 114.4,
            "bin_end": 124.2,
            "count": 0
           },
           {
            "bin_start": 124.2,
            "bin_end": 134,
            "count": 0
           },
           {
            "bin_start": 134,
            "bin_end": 143.8,
            "count": 1
           },
           {
            "bin_start": 143.8,
            "bin_end": 153.60000000000002,
            "count": 1
           },
           {
            "bin_start": 153.60000000000002,
            "bin_end": 163.4,
            "count": 0
           },
           {
            "bin_start": 163.4,
            "bin_end": 173.2,
            "count": 0
           },
           {
            "bin_start": 173.2,
            "bin_end": 183,
            "count": 1
           }
          ]
         }
        },
        {
         "name": "pres",
         "dtype": "int64",
         "stats": {
          "unique_count": 4,
          "nan_count": 0,
          "min": "40",
          "max": "72",
          "histogram": [
           {
            "bin_start": 40,
            "bin_end": 43.2,
            "count": 1
           },
           {
            "bin_start": 43.2,
            "bin_end": 46.4,
            "count": 0
           },
           {
            "bin_start": 46.4,
            "bin_end": 49.6,
            "count": 0
           },
           {
            "bin_start": 49.6,
            "bin_end": 52.8,
            "count": 0
           },
           {
            "bin_start": 52.8,
            "bin_end": 56,
            "count": 0
           },
           {
            "bin_start": 56,
            "bin_end": 59.2,
            "count": 0
           },
           {
            "bin_start": 59.2,
            "bin_end": 62.400000000000006,
            "count": 0
           },
           {
            "bin_start": 62.400000000000006,
            "bin_end": 65.6,
            "count": 1
           },
           {
            "bin_start": 65.6,
            "bin_end": 68.8,
            "count": 2
           },
           {
            "bin_start": 68.8,
            "bin_end": 72,
            "count": 1
           }
          ]
         }
        },
        {
         "name": "skin",
         "dtype": "int64",
         "stats": {
          "unique_count": 4,
          "nan_count": 0,
          "min": "0",
          "max": "35",
          "histogram": [
           {
            "bin_start": 0,
            "bin_end": 3.5,
            "count": 1
           },
           {
            "bin_start": 3.5,
            "bin_end": 7,
            "count": 0
           },
           {
            "bin_start": 7,
            "bin_end": 10.5,
            "count": 0
           },
           {
            "bin_start": 10.5,
            "bin_end": 14,
            "count": 0
           },
           {
            "bin_start": 14,
            "bin_end": 17.5,
            "count": 0
           },
           {
            "bin_start": 17.5,
            "bin_end": 21,
            "count": 0
           },
           {
            "bin_start": 21,
            "bin_end": 24.5,
            "count": 1
           },
           {
            "bin_start": 24.5,
            "bin_end": 28,
            "count": 0
           },
           {
            "bin_start": 28,
            "bin_end": 31.5,
            "count": 1
           },
           {
            "bin_start": 31.5,
            "bin_end": 35,
            "count": 2
           }
          ]
         }
        },
        {
         "name": "test",
         "dtype": "int64",
         "stats": {
          "unique_count": 3,
          "nan_count": 0,
          "min": "0",
          "max": "168",
          "histogram": [
           {
            "bin_start": 0,
            "bin_end": 16.8,
            "count": 3
           },
           {
            "bin_start": 16.8,
            "bin_end": 33.6,
            "count": 0
           },
           {
            "bin_start": 33.6,
            "bin_end": 50.400000000000006,
            "count": 0
           },
           {
            "bin_start": 50.400000000000006,
            "bin_end": 67.2,
            "count": 0
           },
           {
            "bin_start": 67.2,
            "bin_end": 84,
            "count": 0
           },
           {
            "bin_start": 84,
            "bin_end": 100.80000000000001,
            "count": 1
           },
           {
            "bin_start": 100.80000000000001,
            "bin_end": 117.60000000000001,
            "count": 0
           },
           {
            "bin_start": 117.60000000000001,
            "bin_end": 134.4,
            "count": 0
           },
           {
            "bin_start": 134.4,
            "bin_end": 151.20000000000002,
            "count": 0
           },
           {
            "bin_start": 151.20000000000002,
            "bin_end": 168,
            "count": 1
           }
          ]
         }
        },
        {
         "name": "mass",
         "dtype": "float64",
         "stats": {
          "unique_count": 5,
          "nan_count": 0,
          "min": "23.3",
          "max": "43.1",
          "histogram": [
           {
            "bin_start": 23.3,
            "bin_end": 25.28,
            "count": 1
           },
           {
            "bin_start": 25.28,
            "bin_end": 27.26,
            "count": 1
           },
           {
            "bin_start": 27.26,
            "bin_end": 29.240000000000002,
            "count": 1
           },
           {
            "bin_start": 29.240000000000002,
            "bin_end": 31.22,
            "count": 0
           },
           {
            "bin_start": 31.22,
            "bin_end": 33.2,
            "count": 0
           },
           {
            "bin_start": 33.2,
            "bin_end": 35.18,
            "count": 1
           },
           {
            "bin_start": 35.18,
            "bin_end": 37.16,
            "count": 0
           },
           {
            "bin_start": 37.16,
            "bin_end": 39.14,
            "count": 0
           },
           {
            "bin_start": 39.14,
            "bin_end": 41.120000000000005,
            "count": 0
           },
           {
            "bin_start": 41.120000000000005,
            "bin_end": 43.1,
            "count": 1
           }
          ]
         }
        },
        {
         "name": "pedi",
         "dtype": "float64",
         "stats": {
          "unique_count": 5,
          "nan_count": 0,
          "min": "0.167",
          "max": "2.288",
          "histogram": [
           {
            "bin_start": 0.167,
            "bin_end": 0.3791,
            "count": 2
           },
           {
            "bin_start": 0.3791,
            "bin_end": 0.5912000000000001,
            "count": 0
           },
           {
            "bin_start": 0.5912000000000001,
            "bin_end": 0.8033000000000001,
            "count": 2
           },
           {
            "bin_start": 0.8033000000000001,
            "bin_end": 1.0154,
            "count": 0
           },
           {
            "bin_start": 1.0154,
            "bin_end": 1.2275,
            "count": 0
           },
           {
            "bin_start": 1.2275,
            "bin_end": 1.4396000000000002,
            "count": 0
           },
           {
            "bin_start": 1.4396000000000002,
            "bin_end": 1.6517000000000002,
            "count": 0
           },
           {
            "bin_start": 1.6517000000000002,
            "bin_end": 1.8638000000000001,
            "count": 0
           },
           {
            "bin_start": 1.8638000000000001,
            "bin_end": 2.0759,
            "count": 0
           },
           {
            "bin_start": 2.0759,
            "bin_end": 2.288,
            "count": 1
           }
          ]
         }
        },
        {
         "name": "age",
         "dtype": "int64",
         "stats": {
          "unique_count": 5,
          "nan_count": 0,
          "min": "21",
          "max": "50",
          "histogram": [
           {
            "bin_start": 21,
            "bin_end": 23.9,
            "count": 1
           },
           {
            "bin_start": 23.9,
            "bin_end": 26.8,
            "count": 0
           },
           {
            "bin_start": 26.8,
            "bin_end": 29.7,
            "count": 0
           },
           {
            "bin_start": 29.7,
            "bin_end": 32.6,
            "count": 2
           },
           {
            "bin_start": 32.6,
            "bin_end": 35.5,
            "count": 1
           },
           {
            "bin_start": 35.5,
            "bin_end": 38.4,
            "count": 0
           },
           {
            "bin_start": 38.4,
            "bin_end": 41.3,
            "count": 0
           },
           {
            "bin_start": 41.3,
            "bin_end": 44.2,
            "count": 0
           },
           {
            "bin_start": 44.2,
            "bin_end": 47.099999999999994,
            "count": 0
           },
           {
            "bin_start": 47.099999999999994,
            "bin_end": 50,
            "count": 1
           }
          ]
         }
        },
        {
         "name": "class",
         "dtype": "int64",
         "stats": {
          "unique_count": 2,
          "nan_count": 0,
          "min": "0",
          "max": "1",
          "histogram": [
           {
            "bin_start": 0,
            "bin_end": 0.1,
            "count": 2
           },
           {
            "bin_start": 0.1,
            "bin_end": 0.2,
            "count": 0
           },
           {
            "bin_start": 0.2,
            "bin_end": 0.30000000000000004,
            "count": 0
           },
           {
            "bin_start": 0.30000000000000004,
            "bin_end": 0.4,
            "count": 0
           },
           {
            "bin_start": 0.4,
            "bin_end": 0.5,
            "count": 0
           },
           {
            "bin_start": 0.5,
            "bin_end": 0.6000000000000001,
            "count": 0
           },
           {
            "bin_start": 0.6000000000000001,
            "bin_end": 0.7000000000000001,
            "count": 0
           },
           {
            "bin_start": 0.7000000000000001,
            "bin_end": 0.8,
            "count": 0
           },
           {
            "bin_start": 0.8,
            "bin_end": 0.9,
            "count": 0
           },
           {
            "bin_start": 0.9,
            "bin_end": 1,
            "count": 3
           }
          ]
         }
        },
        {
         "name": "_deepnote_index_column",
         "dtype": "int64"
        }
       ],
       "rows_top": [
        {
         "preg": 6,
         "plas": 148,
         "pres": 72,
         "skin": 35,
         "test": 0,
         "mass": 33.6,
         "pedi": 0.627,
         "age": 50,
         "class": 1,
         "_deepnote_index_column": 0
        },
        {
         "preg": 1,
         "plas": 85,
         "pres": 66,
         "skin": 29,
         "test": 0,
         "mass": 26.6,
         "pedi": 0.351,
         "age": 31,
         "class": 0,
         "_deepnote_index_column": 1
        },
        {
         "preg": 8,
         "plas": 183,
         "pres": 64,
         "skin": 0,
         "test": 0,
         "mass": 23.3,
         "pedi": 0.672,
         "age": 32,
         "class": 1,
         "_deepnote_index_column": 2
        },
        {
         "preg": 1,
         "plas": 89,
         "pres": 66,
         "skin": 23,
         "test": 94,
         "mass": 28.1,
         "pedi": 0.167,
         "age": 21,
         "class": 0,
         "_deepnote_index_column": 3
        },
        {
         "preg": 0,
         "plas": 137,
         "pres": 40,
         "skin": 35,
         "test": 168,
         "mass": 43.1,
         "pedi": 2.288,
         "age": 33,
         "class": 1,
         "_deepnote_index_column": 4
        }
       ],
       "rows_bottom": null
      },
      "text/plain": "   preg  plas  pres  skin  test  mass   pedi  age  class\n0     6   148    72    35     0  33.6  0.627   50      1\n1     1    85    66    29     0  26.6  0.351   31      0\n2     8   183    64     0     0  23.3  0.672   32      1\n3     1    89    66    23    94  28.1  0.167   21      0\n4     0   137    40    35   168  43.1  2.288   33      1",
      "text/html": "<div>\n<style scoped>\n    .dataframe tbody tr th:only-of-type {\n        vertical-align: middle;\n    }\n\n    .dataframe tbody tr th {\n        vertical-align: top;\n    }\n\n    .dataframe thead th {\n        text-align: right;\n    }\n</style>\n<table border=\"1\" class=\"dataframe\">\n  <thead>\n    <tr style=\"text-align: right;\">\n      <th></th>\n      <th>preg</th>\n      <th>plas</th>\n      <th>pres</th>\n      <th>skin</th>\n      <th>test</th>\n      <th>mass</th>\n      <th>pedi</th>\n      <th>age</th>\n      <th>class</th>\n    </tr>\n  </thead>\n  <tbody>\n    <tr>\n      <th>0</th>\n      <td>6</td>\n      <td>148</td>\n      <td>72</td>\n      <td>35</td>\n      <td>0</td>\n      <td>33.6</td>\n      <td>0.627</td>\n      <td>50</td>\n      <td>1</td>\n    </tr>\n    <tr>\n      <th>1</th>\n      <td>1</td>\n      <td>85</td>\n      <td>66</td>\n      <td>29</td>\n      <td>0</td>\n      <td>26.6</td>\n      <td>0.351</td>\n      <td>31</td>\n      <td>0</td>\n    </tr>\n    <tr>\n      <th>2</th>\n      <td>8</td>\n      <td>183</td>\n      <td>64</td>\n      <td>0</td>\n      <td>0</td>\n      <td>23.3</td>\n      <td>0.672</td>\n      <td>32</td>\n      <td>1</td>\n    </tr>\n    <tr>\n      <th>3</th>\n      <td>1</td>\n      <td>89</td>\n      <td>66</td>\n      <td>23</td>\n      <td>94</td>\n      <td>28.1</td>\n      <td>0.167</td>\n      <td>21</td>\n      <td>0</td>\n    </tr>\n    <tr>\n      <th>4</th>\n      <td>0</td>\n      <td>137</td>\n      <td>40</td>\n      <td>35</td>\n      <td>168</td>\n      <td>43.1</td>\n      <td>2.288</td>\n      <td>33</td>\n      <td>1</td>\n    </tr>\n  </tbody>\n</table>\n</div>"
     },
     "metadata": {}
    }
   ]
  },
  {
   "cell_type": "markdown",
   "source": "Split data into training, colidation, and test sets with a test size of 25%",
   "metadata": {
    "id": "1O5s3G_ncGmw",
    "colab_type": "text",
    "cell_id": "00004-4d7332bf-55df-4f12-824d-67105e182eb8",
    "deepnote_cell_type": "markdown"
   }
  },
  {
   "cell_type": "code",
   "metadata": {
    "id": "LfmYBpMicLdi",
    "colab_type": "code",
    "colab": {},
    "cell_id": "00005-48bbf6f0-23fd-4a50-a174-b677aa4b794f",
    "deepnote_to_be_reexecuted": false,
    "source_hash": "6e6cf701",
    "execution_start": 1625685970759,
    "execution_millis": 16,
    "deepnote_cell_type": "code"
   },
   "source": "# YOUR CODE HERE\n\nX_cols = ['preg', 'plas', 'pres', 'skin', 'test', 'mass', 'pedi', 'age']\n\ny_col = 'class'\n\ntest_size = 0.25\nX_train, X_test, y_train, y_test = train_test_split(data[X_cols], data[y_col], test_size=test_size, random_state=0)\n\n# Further split X and y of training into training and validation sets\nX_train, X_val, y_train, y_val = train_test_split(X_train, y_train, test_size=test_size, random_state=0)",
   "execution_count": null,
   "outputs": []
  },
  {
   "cell_type": "markdown",
   "source": "Create a model with sklearn's SVC and a high gamma value (perhaps 1.0)",
   "metadata": {
    "id": "uluFKd1hTAQK",
    "colab_type": "text",
    "cell_id": "00006-44f6e42e-9cc2-4319-9d43-e90162df91ff",
    "deepnote_cell_type": "markdown"
   }
  },
  {
   "cell_type": "code",
   "metadata": {
    "colab_type": "code",
    "id": "9rYQecrQ8yjn",
    "colab": {},
    "cell_id": "00007-d0d2df7f-7bfb-4521-b0c5-e26a253c49cc",
    "deepnote_to_be_reexecuted": false,
    "source_hash": "8136c92",
    "execution_start": 1625685970782,
    "execution_millis": 52,
    "deepnote_cell_type": "code"
   },
   "source": "\n# YOUR CODE HERE\nsvm = SVC(gamma=1.0, C=1) #C: regularization term - linked with loss function. High C value --> overfit \nsvm.fit(X_train, y_train)",
   "execution_count": null,
   "outputs": [
    {
     "output_type": "execute_result",
     "execution_count": 4,
     "data": {
      "text/plain": "SVC(C=1, gamma=1.0)"
     },
     "metadata": {}
    }
   ]
  },
  {
   "cell_type": "markdown",
   "source": "Print accuracy of training and validation data",
   "metadata": {
    "colab_type": "text",
    "id": "qdiqjUje4ll-",
    "cell_id": "00008-de3bdbfb-3102-4479-9ea0-6e6aebd95461",
    "deepnote_cell_type": "markdown"
   }
  },
  {
   "cell_type": "code",
   "metadata": {
    "colab_type": "code",
    "id": "O5LqepHk9S0M",
    "colab": {},
    "cell_id": "00009-a6920f62-16b9-4475-b658-9b716b0ee910",
    "deepnote_to_be_reexecuted": false,
    "source_hash": "b0be10e2",
    "execution_start": 1625685970839,
    "execution_millis": 73,
    "deepnote_cell_type": "code"
   },
   "source": "# YOUR CODE HERE\n\ny_train_pred_high=svm.predict(X_train)\nprint(\"Training Accuracy is \", accuracy_score(y_train, y_train_pred_high)*100)\ny_val_pred_high=svm.predict(X_val)\nprint(\"Validation Accuracy is \", accuracy_score(y_val,y_val_pred_high)*100)",
   "execution_count": null,
   "outputs": [
    {
     "name": "stdout",
     "text": "Training Accuracy is  100.0\nValidation Accuracy is  61.80555555555556\n",
     "output_type": "stream"
    }
   ]
  },
  {
   "cell_type": "markdown",
   "source": "Create a model with sklearn's SVC and a low gamma value (perhaps .001)",
   "metadata": {
    "colab_type": "text",
    "id": "fC7VlLtI3ZjQ",
    "cell_id": "00010-c4c59621-414c-4bf8-a2cb-952a956589e2",
    "deepnote_cell_type": "markdown"
   }
  },
  {
   "cell_type": "code",
   "metadata": {
    "colab_type": "code",
    "id": "3vVHnWuY9pFN",
    "colab": {},
    "cell_id": "00011-37f1e332-6c75-44ea-8d6e-2e56129afc42",
    "deepnote_to_be_reexecuted": false,
    "source_hash": "811a04a7",
    "execution_start": 1625685981467,
    "execution_millis": 58,
    "deepnote_cell_type": "code"
   },
   "source": "# YOUR CODE HERE\nsvm = SVC(gamma=0.001, C=1)\nsvm.fit(X_train, y_train)",
   "execution_count": null,
   "outputs": [
    {
     "output_type": "execute_result",
     "execution_count": 9,
     "data": {
      "text/plain": "SVC(C=1, gamma=0.001)"
     },
     "metadata": {}
    }
   ]
  },
  {
   "cell_type": "markdown",
   "source": "Print accuracy of training and validation data",
   "metadata": {
    "colab_type": "text",
    "id": "JQB-U50H4mIx",
    "cell_id": "00012-9d51de56-c59b-4c67-93ca-ded038549dde",
    "deepnote_cell_type": "markdown"
   }
  },
  {
   "cell_type": "code",
   "metadata": {
    "colab_type": "code",
    "id": "tr4DGB309s9a",
    "colab": {},
    "cell_id": "00013-1686ba5a-984e-4bb7-8e14-3cf4595286fe",
    "deepnote_to_be_reexecuted": false,
    "source_hash": "39271828",
    "execution_start": 1625685981934,
    "execution_millis": 61,
    "deepnote_cell_type": "code"
   },
   "source": "# YOUR CODE HERE\ny_train_pred_low=svm.predict(X_train)\nprint(\"Training Accuracy is \", accuracy_score(y_train, y_train_pred_low)*100)\ny_val_pred_low=svm.predict(X_val)\nprint(\"Validation Accuracy is \", accuracy_score(y_val,y_val_pred_low)*100)",
   "execution_count": null,
   "outputs": [
    {
     "name": "stdout",
     "text": "Training Accuracy is  83.33333333333334\nValidation Accuracy is  70.83333333333334\n",
     "output_type": "stream"
    }
   ]
  },
  {
   "cell_type": "markdown",
   "source": "Explain the accuracy results below. ",
   "metadata": {
    "colab_type": "text",
    "id": "TA9xLHAEIKXY",
    "cell_id": "00014-75e189cf-f617-40c8-b066-b058c6625cae",
    "deepnote_cell_type": "markdown"
   }
  },
  {
   "cell_type": "markdown",
   "source": "For the first case in which the gamma value was higher, overfittinng occured and thus had a lower validation accuracy compared to its training accuracy. ",
   "metadata": {
    "id": "0IKjiKigeeKp",
    "colab_type": "text",
    "cell_id": "00015-c60f1422-df6e-4e9f-aef4-ba8a8cbf9465",
    "deepnote_cell_type": "markdown"
   }
  },
  {
   "cell_type": "markdown",
   "source": "Print the confusion matrices for your high and low gamma models (both numeric and visualized)",
   "metadata": {
    "id": "DxF6fUTvTAQk",
    "colab_type": "text",
    "cell_id": "00016-7b0a5607-4791-44dd-ad32-62f16f6c166f",
    "deepnote_cell_type": "markdown"
   }
  },
  {
   "cell_type": "code",
   "metadata": {
    "id": "zxZeR4haTAQk",
    "colab_type": "code",
    "colab": {},
    "cell_id": "00017-eca6862f-1926-4d9e-92ca-04b168df9833",
    "deepnote_to_be_reexecuted": false,
    "source_hash": "51c81ffa",
    "execution_start": 1625686246742,
    "execution_millis": 4,
    "deepnote_cell_type": "code"
   },
   "source": "# YOUR CODE HERE\n# metrics.confusion_matrix(y_val, y_val_predict, labels)\n\nprint(metrics.confusion_matrix(y_val, y_val_pred_high))\nprint(metrics.confusion_matrix(y_val, y_val_pred_low))",
   "execution_count": null,
   "outputs": [
    {
     "name": "stdout",
     "text": "[[89  0]\n [55  0]]\n[[78 11]\n [31 24]]\n",
     "output_type": "stream"
    }
   ]
  },
  {
   "cell_type": "code",
   "metadata": {
    "tags": [],
    "cell_id": "00018-9fc9b60a-696b-4699-b0e7-ec57a0262693",
    "deepnote_cell_type": "code"
   },
   "source": "",
   "execution_count": null,
   "outputs": []
  },
  {
   "cell_type": "markdown",
   "source": "<a style='text-decoration:none;line-height:16px;display:flex;color:#5B5B62;padding:10px;justify-content:end;' href='https://deepnote.com?utm_source=created-in-deepnote-cell&projectId=0e58ff94-2716-4c23-bc14-d1bdf69b13de' target=\"_blank\">\n<img alt='Created in deepnote.com' style='display:inline;max-height:16px;margin:0px;margin-right:7.5px;' src='data:image/svg+xml;base64,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' > </img>\nCreated in <span style='font-weight:600;margin-left:4px;'>Deepnote</span></a>",
   "metadata": {
    "tags": [],
    "created_in_deepnote_cell": true,
    "deepnote_cell_type": "markdown"
   }
  }
 ],
 "nbformat": 4,
 "nbformat_minor": 0,
 "metadata": {
  "colab": {
   "name": "SVM_Exercises",
   "provenance": [],
   "collapsed_sections": []
  },
  "kernelspec": {
   "display_name": "Python 3",
   "language": "python",
   "name": "python3"
  },
  "language_info": {
   "codemirror_mode": {
    "name": "ipython",
    "version": 3
   },
   "file_extension": ".py",
   "mimetype": "text/x-python",
   "name": "python",
   "nbconvert_exporter": "python",
   "pygments_lexer": "ipython3",
   "version": "3.7.3"
  },
  "deepnote_notebook_id": "4e8b1758-74d0-49e4-b831-b29a236d2816",
  "deepnote": {},
  "deepnote_execution_queue": []
 }
}